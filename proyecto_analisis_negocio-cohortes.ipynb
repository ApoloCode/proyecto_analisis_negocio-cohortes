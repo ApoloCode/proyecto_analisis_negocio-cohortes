{
 "cells": [
  {
   "cell_type": "markdown",
   "metadata": {},
   "source": [
    "# Proyecto Análisis de Negocio"
   ]
  },
  {
   "cell_type": "markdown",
   "metadata": {},
   "source": [
    "Te han ofrecido hacer prácticas en el departamento analítico de Y.Afisha. El objetivo es ayudar a optimizar los gastos de marketing.\n",
    "\n",
    "Los datos que se tienen son los siguientes:\n",
    "\n",
    "- Registros del servidor con datos sobre las visitas a Y.Afisha desde enero de 2017 hasta diciembre de 2018;\n",
    "- Archivo de volcado con todos los pedidos del período;\n",
    "- Estadísticas de gastos de marketing.\n",
    "\n",
    "Se necesita investigar:\n",
    "\n",
    "- Cómo la gente usa el producto;\n",
    "- Cuándo empiezan a comprar;\n",
    "- Cuánto dinero trae cada cliente;\n",
    "- Cuándo pagan."
   ]
  },
  {
   "cell_type": "markdown",
   "metadata": {},
   "source": [
    "## Tabla de contenidos <a id='back'></a>\n",
    "\n",
    "* [Inicialización](#intro)\n",
    "* [Descarga de datos y preparación](#descarga_preparación)\n",
    "* [Creación de informes y cálculos de métricas](#informes_calculos)\n",
    "* [Conclusión final](#conclusión_final)"
   ]
  },
  {
   "cell_type": "markdown",
   "metadata": {},
   "source": [
    "## Inicialización <a id='intro'></a>"
   ]
  },
  {
   "cell_type": "markdown",
   "metadata": {},
   "source": [
    "Para iniciar nuestro proyecto vamos a cargar nuestras librerias"
   ]
  },
  {
   "cell_type": "code",
   "execution_count": 1,
   "metadata": {
    "ExecuteTime": {
     "end_time": "2023-07-18T01:06:10.952040200Z",
     "start_time": "2023-07-18T01:06:10.937026100Z"
    }
   },
   "outputs": [],
   "source": [
    "# Cargar todas las librerías\n",
    "import pandas as pd\n",
    "import numpy as np\n",
    "import matplotlib.pyplot as plt\n",
    "from scipy import stats as st\n",
    "import seaborn as sns"
   ]
  },
  {
   "cell_type": "markdown",
   "metadata": {},
   "source": [
    "## Descarga de datos y preparación <a id='descarga_preparación'></a>"
   ]
  },
  {
   "cell_type": "markdown",
   "metadata": {},
   "source": [
    "Vamos a cargar los datos de 3 dataset `/datasets/visits_log_us.csv`, `/datasets/orders_log_us.csv` y `/datasets/costs_us.csv`"
   ]
  },
  {
   "cell_type": "code",
   "execution_count": 2,
   "metadata": {
    "ExecuteTime": {
     "end_time": "2023-07-18T01:06:11.871034300Z",
     "start_time": "2023-07-18T01:06:10.964041100Z"
    }
   },
   "outputs": [],
   "source": [
    "# Carga los archivos de datos\n",
    "data_visits = pd.read_csv('data/visits_log_us.csv')\n",
    "data_orders = pd.read_csv('data/orders_log_us.csv')\n",
    "data_costs = pd.read_csv('data/costs_us.csv')"
   ]
  },
  {
   "cell_type": "code",
   "execution_count": 3,
   "metadata": {
    "ExecuteTime": {
     "end_time": "2023-07-18T01:06:11.980023200Z",
     "start_time": "2023-07-18T01:06:11.875026100Z"
    }
   },
   "outputs": [
    {
     "name": "stdout",
     "output_type": "stream",
     "text": [
      "    Device               End Ts  Source Id             Start Ts  \\\n",
      "0    touch  2017-12-20 17:38:00          4  2017-12-20 17:20:00   \n",
      "1  desktop  2018-02-19 17:21:00          2  2018-02-19 16:53:00   \n",
      "2    touch  2017-07-01 01:54:00          5  2017-07-01 01:54:00   \n",
      "3  desktop  2018-05-20 11:23:00          9  2018-05-20 10:59:00   \n",
      "4  desktop  2017-12-27 14:06:00          3  2017-12-27 14:06:00   \n",
      "\n",
      "                    Uid  \n",
      "0  16879256277535980062  \n",
      "1    104060357244891740  \n",
      "2   7459035603376831527  \n",
      "3  16174680259334210214  \n",
      "4   9969694820036681168  \n",
      "\n",
      "                Buy Ts  Revenue                   Uid\n",
      "0  2017-06-01 00:10:00    17.00  10329302124590727494\n",
      "1  2017-06-01 00:25:00     0.55  11627257723692907447\n",
      "2  2017-06-01 00:27:00     0.37  17903680561304213844\n",
      "3  2017-06-01 00:29:00     0.55  16109239769442553005\n",
      "4  2017-06-01 07:58:00     0.37  14200605875248379450\n",
      "\n",
      "   source_id          dt  costs\n",
      "0          1  2017-06-01  75.20\n",
      "1          1  2017-06-02  62.25\n",
      "2          1  2017-06-03  36.53\n",
      "3          1  2017-06-04  55.00\n",
      "4          1  2017-06-05  57.08\n"
     ]
    }
   ],
   "source": [
    "# Verificamos que los datos se hayan cargado correctamente\n",
    "print(data_visits.head())\n",
    "print()\n",
    "print(data_orders.head())\n",
    "print()\n",
    "print(data_costs.head())"
   ]
  },
  {
   "cell_type": "markdown",
   "metadata": {},
   "source": [
    "Vamos a estudiar los datos que contienen nuestros datasets y verificar que los tipos de datos sean correctos para nuestro análisis"
   ]
  },
  {
   "cell_type": "code",
   "execution_count": 4,
   "metadata": {
    "ExecuteTime": {
     "end_time": "2023-07-18T01:06:12.157024700Z",
     "start_time": "2023-07-18T01:06:11.905026Z"
    }
   },
   "outputs": [
    {
     "name": "stdout",
     "output_type": "stream",
     "text": [
      "<class 'pandas.core.frame.DataFrame'>\n",
      "RangeIndex: 359400 entries, 0 to 359399\n",
      "Data columns (total 5 columns):\n",
      " #   Column     Non-Null Count   Dtype \n",
      "---  ------     --------------   ----- \n",
      " 0   Device     359400 non-null  object\n",
      " 1   End Ts     359400 non-null  object\n",
      " 2   Source Id  359400 non-null  int64 \n",
      " 3   Start Ts   359400 non-null  object\n",
      " 4   Uid        359400 non-null  uint64\n",
      "dtypes: int64(1), object(3), uint64(1)\n",
      "memory usage: 13.7+ MB\n"
     ]
    }
   ],
   "source": [
    "# Imprimimos la información general/resumen sobre nuestro primer dataset\n",
    "data_visits.info()"
   ]
  },
  {
   "cell_type": "code",
   "execution_count": 5,
   "metadata": {
    "ExecuteTime": {
     "end_time": "2023-07-18T01:06:12.293024900Z",
     "start_time": "2023-07-18T01:06:12.159027400Z"
    }
   },
   "outputs": [
    {
     "data": {
      "text/plain": "    Device               End Ts  Source Id             Start Ts  \\\n0    touch  2017-12-20 17:38:00          4  2017-12-20 17:20:00   \n1  desktop  2018-02-19 17:21:00          2  2018-02-19 16:53:00   \n2    touch  2017-07-01 01:54:00          5  2017-07-01 01:54:00   \n3  desktop  2018-05-20 11:23:00          9  2018-05-20 10:59:00   \n4  desktop  2017-12-27 14:06:00          3  2017-12-27 14:06:00   \n\n                    Uid  \n0  16879256277535980062  \n1    104060357244891740  \n2   7459035603376831527  \n3  16174680259334210214  \n4   9969694820036681168  ",
      "text/html": "<div>\n<style scoped>\n    .dataframe tbody tr th:only-of-type {\n        vertical-align: middle;\n    }\n\n    .dataframe tbody tr th {\n        vertical-align: top;\n    }\n\n    .dataframe thead th {\n        text-align: right;\n    }\n</style>\n<table border=\"1\" class=\"dataframe\">\n  <thead>\n    <tr style=\"text-align: right;\">\n      <th></th>\n      <th>Device</th>\n      <th>End Ts</th>\n      <th>Source Id</th>\n      <th>Start Ts</th>\n      <th>Uid</th>\n    </tr>\n  </thead>\n  <tbody>\n    <tr>\n      <th>0</th>\n      <td>touch</td>\n      <td>2017-12-20 17:38:00</td>\n      <td>4</td>\n      <td>2017-12-20 17:20:00</td>\n      <td>16879256277535980062</td>\n    </tr>\n    <tr>\n      <th>1</th>\n      <td>desktop</td>\n      <td>2018-02-19 17:21:00</td>\n      <td>2</td>\n      <td>2018-02-19 16:53:00</td>\n      <td>104060357244891740</td>\n    </tr>\n    <tr>\n      <th>2</th>\n      <td>touch</td>\n      <td>2017-07-01 01:54:00</td>\n      <td>5</td>\n      <td>2017-07-01 01:54:00</td>\n      <td>7459035603376831527</td>\n    </tr>\n    <tr>\n      <th>3</th>\n      <td>desktop</td>\n      <td>2018-05-20 11:23:00</td>\n      <td>9</td>\n      <td>2018-05-20 10:59:00</td>\n      <td>16174680259334210214</td>\n    </tr>\n    <tr>\n      <th>4</th>\n      <td>desktop</td>\n      <td>2017-12-27 14:06:00</td>\n      <td>3</td>\n      <td>2017-12-27 14:06:00</td>\n      <td>9969694820036681168</td>\n    </tr>\n  </tbody>\n</table>\n</div>"
     },
     "execution_count": 5,
     "metadata": {},
     "output_type": "execute_result"
    }
   ],
   "source": [
    "# Se imprime una muestra de los datos\n",
    "data_visits.head()"
   ]
  },
  {
   "cell_type": "markdown",
   "metadata": {},
   "source": [
    "El primer dataset `data_visits` que son los registros del servidor con datos sobre las visitas al sitio web, contiene los siguientes datos:\n",
    "\n",
    "- `Uid`: identificador único del usuario.\n",
    "- `Device`: dispositivo del usuario.\n",
    "- `Start Ts`: fecha y hora de inicio de la sesión.\n",
    "- `End Ts`: fecha y hora de término de la sesión.\n",
    "- `Source Id`: identificador de la fuente de anuncios de la que proviene el usuario.\n",
    "\n",
    "Todas las fechas de esta tabla están en formato AAAA-MM-DD."
   ]
  },
  {
   "cell_type": "code",
   "execution_count": 6,
   "metadata": {
    "ExecuteTime": {
     "end_time": "2023-07-18T01:06:12.691026400Z",
     "start_time": "2023-07-18T01:06:12.190027700Z"
    }
   },
   "outputs": [
    {
     "name": "stdout",
     "output_type": "stream",
     "text": [
      "Datos duplicados en el dataset: 0\n"
     ]
    }
   ],
   "source": [
    "# Verificamos que no haya datos duplicados en el dataset\n",
    "print('Datos duplicados en el dataset:', data_visits.duplicated().sum())"
   ]
  },
  {
   "cell_type": "markdown",
   "metadata": {},
   "source": [
    "#### Conclusiones del primer dataset"
   ]
  },
  {
   "cell_type": "markdown",
   "metadata": {},
   "source": [
    "Al ver la muestra y resumen del dataset no encontramos datos faltantes ni duplicados, sin embargo podemos hacer unas optimizaciones en los tipos de datos de la columna `Device` y tambien debemos pasar los datos de las columnas `Start Ts` y `End Ts` a fecha. Tambien hay que mencionar que debido a la naturaleza de los datos númericos, no fue necesario ver una descripción de ellos"
   ]
  },
  {
   "cell_type": "markdown",
   "metadata": {},
   "source": [
    "Pasamos al segundo dataset"
   ]
  },
  {
   "cell_type": "code",
   "execution_count": 7,
   "metadata": {
    "ExecuteTime": {
     "end_time": "2023-07-18T01:06:12.778025200Z",
     "start_time": "2023-07-18T01:06:12.695028900Z"
    }
   },
   "outputs": [
    {
     "name": "stdout",
     "output_type": "stream",
     "text": [
      "<class 'pandas.core.frame.DataFrame'>\n",
      "RangeIndex: 50415 entries, 0 to 50414\n",
      "Data columns (total 3 columns):\n",
      " #   Column   Non-Null Count  Dtype  \n",
      "---  ------   --------------  -----  \n",
      " 0   Buy Ts   50415 non-null  object \n",
      " 1   Revenue  50415 non-null  float64\n",
      " 2   Uid      50415 non-null  uint64 \n",
      "dtypes: float64(1), object(1), uint64(1)\n",
      "memory usage: 1.2+ MB\n"
     ]
    }
   ],
   "source": [
    "# Imprimimos la información general/resumen sobre nuestro segundo dataset\n",
    "data_orders.info()"
   ]
  },
  {
   "cell_type": "code",
   "execution_count": 8,
   "metadata": {
    "ExecuteTime": {
     "end_time": "2023-07-18T01:06:12.781025900Z",
     "start_time": "2023-07-18T01:06:12.738029300Z"
    }
   },
   "outputs": [
    {
     "data": {
      "text/plain": "                Buy Ts  Revenue                   Uid\n0  2017-06-01 00:10:00    17.00  10329302124590727494\n1  2017-06-01 00:25:00     0.55  11627257723692907447\n2  2017-06-01 00:27:00     0.37  17903680561304213844\n3  2017-06-01 00:29:00     0.55  16109239769442553005\n4  2017-06-01 07:58:00     0.37  14200605875248379450",
      "text/html": "<div>\n<style scoped>\n    .dataframe tbody tr th:only-of-type {\n        vertical-align: middle;\n    }\n\n    .dataframe tbody tr th {\n        vertical-align: top;\n    }\n\n    .dataframe thead th {\n        text-align: right;\n    }\n</style>\n<table border=\"1\" class=\"dataframe\">\n  <thead>\n    <tr style=\"text-align: right;\">\n      <th></th>\n      <th>Buy Ts</th>\n      <th>Revenue</th>\n      <th>Uid</th>\n    </tr>\n  </thead>\n  <tbody>\n    <tr>\n      <th>0</th>\n      <td>2017-06-01 00:10:00</td>\n      <td>17.00</td>\n      <td>10329302124590727494</td>\n    </tr>\n    <tr>\n      <th>1</th>\n      <td>2017-06-01 00:25:00</td>\n      <td>0.55</td>\n      <td>11627257723692907447</td>\n    </tr>\n    <tr>\n      <th>2</th>\n      <td>2017-06-01 00:27:00</td>\n      <td>0.37</td>\n      <td>17903680561304213844</td>\n    </tr>\n    <tr>\n      <th>3</th>\n      <td>2017-06-01 00:29:00</td>\n      <td>0.55</td>\n      <td>16109239769442553005</td>\n    </tr>\n    <tr>\n      <th>4</th>\n      <td>2017-06-01 07:58:00</td>\n      <td>0.37</td>\n      <td>14200605875248379450</td>\n    </tr>\n  </tbody>\n</table>\n</div>"
     },
     "execution_count": 8,
     "metadata": {},
     "output_type": "execute_result"
    }
   ],
   "source": [
    "# Se imprime una muestra de los datos\n",
    "data_orders.head()"
   ]
  },
  {
   "cell_type": "markdown",
   "metadata": {},
   "source": [
    "El segundo dataset `data_orders` que son los datos sobre pedidos, contiene los siguientes datos:\n",
    "\n",
    "- `Uid`: identificador único del usuario que realiza un pedido.\n",
    "- `Buy Ts`: fecha y hora del pedido.\n",
    "- `Revenue`: ingresos de Y.Afisha de este pedido."
   ]
  },
  {
   "cell_type": "code",
   "execution_count": 9,
   "metadata": {
    "ExecuteTime": {
     "end_time": "2023-07-18T01:06:12.967023300Z",
     "start_time": "2023-07-18T01:06:12.770025700Z"
    }
   },
   "outputs": [
    {
     "data": {
      "text/plain": "            Revenue           Uid\ncount  50415.000000  5.041500e+04\nmean       4.999647  9.098161e+18\nstd       21.818359  5.285742e+18\nmin        0.000000  3.135781e+14\n25%        1.220000  4.533567e+18\n50%        2.500000  9.102274e+18\n75%        4.890000  1.368290e+19\nmax     2633.280000  1.844617e+19",
      "text/html": "<div>\n<style scoped>\n    .dataframe tbody tr th:only-of-type {\n        vertical-align: middle;\n    }\n\n    .dataframe tbody tr th {\n        vertical-align: top;\n    }\n\n    .dataframe thead th {\n        text-align: right;\n    }\n</style>\n<table border=\"1\" class=\"dataframe\">\n  <thead>\n    <tr style=\"text-align: right;\">\n      <th></th>\n      <th>Revenue</th>\n      <th>Uid</th>\n    </tr>\n  </thead>\n  <tbody>\n    <tr>\n      <th>count</th>\n      <td>50415.000000</td>\n      <td>5.041500e+04</td>\n    </tr>\n    <tr>\n      <th>mean</th>\n      <td>4.999647</td>\n      <td>9.098161e+18</td>\n    </tr>\n    <tr>\n      <th>std</th>\n      <td>21.818359</td>\n      <td>5.285742e+18</td>\n    </tr>\n    <tr>\n      <th>min</th>\n      <td>0.000000</td>\n      <td>3.135781e+14</td>\n    </tr>\n    <tr>\n      <th>25%</th>\n      <td>1.220000</td>\n      <td>4.533567e+18</td>\n    </tr>\n    <tr>\n      <th>50%</th>\n      <td>2.500000</td>\n      <td>9.102274e+18</td>\n    </tr>\n    <tr>\n      <th>75%</th>\n      <td>4.890000</td>\n      <td>1.368290e+19</td>\n    </tr>\n    <tr>\n      <th>max</th>\n      <td>2633.280000</td>\n      <td>1.844617e+19</td>\n    </tr>\n  </tbody>\n</table>\n</div>"
     },
     "execution_count": 9,
     "metadata": {},
     "output_type": "execute_result"
    }
   ],
   "source": [
    "# Se imprime una descripción de los datos\n",
    "data_orders.describe()"
   ]
  },
  {
   "cell_type": "code",
   "execution_count": 10,
   "metadata": {
    "ExecuteTime": {
     "end_time": "2023-07-18T01:06:13.012025900Z",
     "start_time": "2023-07-18T01:06:12.817027700Z"
    }
   },
   "outputs": [
    {
     "name": "stdout",
     "output_type": "stream",
     "text": [
      "Datos duplicados en el dataset: 0\n"
     ]
    }
   ],
   "source": [
    "# Verificamos que no haya datos duplicados en el dataset\n",
    "print('Datos duplicados en el dataset:', data_orders.duplicated().sum())"
   ]
  },
  {
   "cell_type": "markdown",
   "metadata": {},
   "source": [
    "#### Conclusiones del segundo dataset"
   ]
  },
  {
   "cell_type": "markdown",
   "metadata": {},
   "source": [
    "Al ver la muestra y resumen del dataset no encontramos datos faltantes ni duplicados, sin embargo debemos pasar los datos de la columna `Buy Ts` a fecha. Tambien al ver la descripción de los datos numéricos vemos que la media de los ingresos es el doble que el de la mediana, además de que el 75% de los datos no llega a superar los $5, todo esto nos indica la presencia de valores outliers"
   ]
  },
  {
   "cell_type": "markdown",
   "metadata": {},
   "source": [
    "Pasemos al 3er dataset"
   ]
  },
  {
   "cell_type": "code",
   "execution_count": 11,
   "metadata": {
    "ExecuteTime": {
     "end_time": "2023-07-18T01:06:13.039022500Z",
     "start_time": "2023-07-18T01:06:12.865027600Z"
    }
   },
   "outputs": [
    {
     "name": "stdout",
     "output_type": "stream",
     "text": [
      "<class 'pandas.core.frame.DataFrame'>\n",
      "RangeIndex: 2542 entries, 0 to 2541\n",
      "Data columns (total 3 columns):\n",
      " #   Column     Non-Null Count  Dtype  \n",
      "---  ------     --------------  -----  \n",
      " 0   source_id  2542 non-null   int64  \n",
      " 1   dt         2542 non-null   object \n",
      " 2   costs      2542 non-null   float64\n",
      "dtypes: float64(1), int64(1), object(1)\n",
      "memory usage: 59.7+ KB\n"
     ]
    }
   ],
   "source": [
    "# Imprimimos la información general/resumen sobre el 3er dataset\n",
    "data_costs.info()"
   ]
  },
  {
   "cell_type": "code",
   "execution_count": 12,
   "metadata": {
    "ExecuteTime": {
     "end_time": "2023-07-18T01:06:13.220023100Z",
     "start_time": "2023-07-18T01:06:12.900026Z"
    }
   },
   "outputs": [
    {
     "data": {
      "text/plain": "   source_id          dt  costs\n0          1  2017-06-01  75.20\n1          1  2017-06-02  62.25\n2          1  2017-06-03  36.53\n3          1  2017-06-04  55.00\n4          1  2017-06-05  57.08",
      "text/html": "<div>\n<style scoped>\n    .dataframe tbody tr th:only-of-type {\n        vertical-align: middle;\n    }\n\n    .dataframe tbody tr th {\n        vertical-align: top;\n    }\n\n    .dataframe thead th {\n        text-align: right;\n    }\n</style>\n<table border=\"1\" class=\"dataframe\">\n  <thead>\n    <tr style=\"text-align: right;\">\n      <th></th>\n      <th>source_id</th>\n      <th>dt</th>\n      <th>costs</th>\n    </tr>\n  </thead>\n  <tbody>\n    <tr>\n      <th>0</th>\n      <td>1</td>\n      <td>2017-06-01</td>\n      <td>75.20</td>\n    </tr>\n    <tr>\n      <th>1</th>\n      <td>1</td>\n      <td>2017-06-02</td>\n      <td>62.25</td>\n    </tr>\n    <tr>\n      <th>2</th>\n      <td>1</td>\n      <td>2017-06-03</td>\n      <td>36.53</td>\n    </tr>\n    <tr>\n      <th>3</th>\n      <td>1</td>\n      <td>2017-06-04</td>\n      <td>55.00</td>\n    </tr>\n    <tr>\n      <th>4</th>\n      <td>1</td>\n      <td>2017-06-05</td>\n      <td>57.08</td>\n    </tr>\n  </tbody>\n</table>\n</div>"
     },
     "execution_count": 12,
     "metadata": {},
     "output_type": "execute_result"
    }
   ],
   "source": [
    "# Se imprime una muestra de los datos\n",
    "data_costs.head()"
   ]
  },
  {
   "cell_type": "markdown",
   "metadata": {},
   "source": [
    "El tercer dataset `data_costs` que son los datos sobre gastos de marketing, contiene los siguientes datos:\n",
    "\n",
    "- `source_id`: identificador de la fuente de anuncios.\n",
    "- `dt`: fecha.\n",
    "- `costs`: gastos en esta fuente de anuncios en este día."
   ]
  },
  {
   "cell_type": "code",
   "execution_count": 13,
   "metadata": {
    "ExecuteTime": {
     "end_time": "2023-07-18T01:06:13.257025600Z",
     "start_time": "2023-07-18T01:06:12.927026800Z"
    }
   },
   "outputs": [
    {
     "data": {
      "text/plain": "         source_id        costs\ncount  2542.000000  2542.000000\nmean      4.857199   129.477427\nstd       3.181581   156.296628\nmin       1.000000     0.540000\n25%       2.000000    21.945000\n50%       4.000000    77.295000\n75%       9.000000   170.065000\nmax      10.000000  1788.280000",
      "text/html": "<div>\n<style scoped>\n    .dataframe tbody tr th:only-of-type {\n        vertical-align: middle;\n    }\n\n    .dataframe tbody tr th {\n        vertical-align: top;\n    }\n\n    .dataframe thead th {\n        text-align: right;\n    }\n</style>\n<table border=\"1\" class=\"dataframe\">\n  <thead>\n    <tr style=\"text-align: right;\">\n      <th></th>\n      <th>source_id</th>\n      <th>costs</th>\n    </tr>\n  </thead>\n  <tbody>\n    <tr>\n      <th>count</th>\n      <td>2542.000000</td>\n      <td>2542.000000</td>\n    </tr>\n    <tr>\n      <th>mean</th>\n      <td>4.857199</td>\n      <td>129.477427</td>\n    </tr>\n    <tr>\n      <th>std</th>\n      <td>3.181581</td>\n      <td>156.296628</td>\n    </tr>\n    <tr>\n      <th>min</th>\n      <td>1.000000</td>\n      <td>0.540000</td>\n    </tr>\n    <tr>\n      <th>25%</th>\n      <td>2.000000</td>\n      <td>21.945000</td>\n    </tr>\n    <tr>\n      <th>50%</th>\n      <td>4.000000</td>\n      <td>77.295000</td>\n    </tr>\n    <tr>\n      <th>75%</th>\n      <td>9.000000</td>\n      <td>170.065000</td>\n    </tr>\n    <tr>\n      <th>max</th>\n      <td>10.000000</td>\n      <td>1788.280000</td>\n    </tr>\n  </tbody>\n</table>\n</div>"
     },
     "execution_count": 13,
     "metadata": {},
     "output_type": "execute_result"
    }
   ],
   "source": [
    "# Se imprime una descripción de los datos\n",
    "data_costs.describe()"
   ]
  },
  {
   "cell_type": "code",
   "execution_count": 14,
   "metadata": {
    "ExecuteTime": {
     "end_time": "2023-07-18T01:06:13.258025900Z",
     "start_time": "2023-07-18T01:06:12.967023300Z"
    }
   },
   "outputs": [
    {
     "name": "stdout",
     "output_type": "stream",
     "text": [
      "Datos duplicados en el dataset: 0\n"
     ]
    }
   ],
   "source": [
    "# Verificamos que no haya datos duplicados en el dataset\n",
    "print('Datos duplicados en el dataset:', data_costs.duplicated().sum())"
   ]
  },
  {
   "cell_type": "markdown",
   "metadata": {},
   "source": [
    "#### Conclusiones del tercer dataset"
   ]
  },
  {
   "cell_type": "markdown",
   "metadata": {},
   "source": [
    "Al ver la muestra y resumen del dataset no encontramos datos faltantes ni duplicados, sin embargo debemos pasar los datos de la columna `dt` a fecha. Tambien al ver la descripción de los datos numéricos vemos que la media de los costos es casi el doble que el de la mediana, además de que el 75% de los datos no llega a superar los $170, todo esto nos indica la presencia de valores outliers"
   ]
  },
  {
   "cell_type": "markdown",
   "metadata": {},
   "source": [
    "### Corregir datos"
   ]
  },
  {
   "cell_type": "markdown",
   "metadata": {},
   "source": [
    "#### Primer dataset"
   ]
  },
  {
   "cell_type": "markdown",
   "metadata": {},
   "source": [
    "Vamos a optimizar la columna `Device` a category y pasar las columnas `Start Ts` y `End Ts` a fecha"
   ]
  },
  {
   "cell_type": "code",
   "execution_count": 15,
   "metadata": {
    "ExecuteTime": {
     "end_time": "2023-07-18T01:06:13.865022900Z",
     "start_time": "2023-07-18T01:06:12.975026700Z"
    }
   },
   "outputs": [],
   "source": [
    "# Pasar device a tipo categoria\n",
    "data_visits['Device'] = data_visits['Device'].astype('category')\n",
    "\n",
    "# Pasar start ts y end ts a tipo fecha\n",
    "data_visits['Start Ts'] =  pd.to_datetime(data_visits['Start Ts'], format=\"%Y.%m.%d %H:%M:%S\")\n",
    "data_visits['End Ts'] =  pd.to_datetime(data_visits['End Ts'], format=\"%Y.%m.%d %H:%M:%S\")"
   ]
  },
  {
   "cell_type": "code",
   "execution_count": 16,
   "metadata": {
    "ExecuteTime": {
     "end_time": "2023-07-18T01:06:13.909020900Z",
     "start_time": "2023-07-18T01:06:13.853026300Z"
    }
   },
   "outputs": [
    {
     "name": "stdout",
     "output_type": "stream",
     "text": [
      "<class 'pandas.core.frame.DataFrame'>\n",
      "RangeIndex: 359400 entries, 0 to 359399\n",
      "Data columns (total 5 columns):\n",
      " #   Column     Non-Null Count   Dtype         \n",
      "---  ------     --------------   -----         \n",
      " 0   Device     359400 non-null  category      \n",
      " 1   End Ts     359400 non-null  datetime64[ns]\n",
      " 2   Source Id  359400 non-null  int64         \n",
      " 3   Start Ts   359400 non-null  datetime64[ns]\n",
      " 4   Uid        359400 non-null  uint64        \n",
      "dtypes: category(1), datetime64[ns](2), int64(1), uint64(1)\n",
      "memory usage: 11.3 MB\n"
     ]
    }
   ],
   "source": [
    "# Verificamos que el cambio este hecho\n",
    "data_visits.info()"
   ]
  },
  {
   "cell_type": "markdown",
   "metadata": {},
   "source": [
    "#### Segundo dataset"
   ]
  },
  {
   "cell_type": "markdown",
   "metadata": {},
   "source": [
    "Vamos a pasar la columna `Buy Ts` a fecha"
   ]
  },
  {
   "cell_type": "code",
   "execution_count": 17,
   "metadata": {
    "ExecuteTime": {
     "end_time": "2023-07-18T01:06:13.987021500Z",
     "start_time": "2023-07-18T01:06:13.887030400Z"
    }
   },
   "outputs": [],
   "source": [
    "# Pasar buy ts a tipo fecha\n",
    "data_orders['Buy Ts'] =  pd.to_datetime(data_orders['Buy Ts'], format=\"%Y.%m.%d %H:%M:%S\")"
   ]
  },
  {
   "cell_type": "code",
   "execution_count": 18,
   "metadata": {
    "ExecuteTime": {
     "end_time": "2023-07-18T01:06:14.066023400Z",
     "start_time": "2023-07-18T01:06:13.947023400Z"
    }
   },
   "outputs": [
    {
     "name": "stdout",
     "output_type": "stream",
     "text": [
      "<class 'pandas.core.frame.DataFrame'>\n",
      "RangeIndex: 50415 entries, 0 to 50414\n",
      "Data columns (total 3 columns):\n",
      " #   Column   Non-Null Count  Dtype         \n",
      "---  ------   --------------  -----         \n",
      " 0   Buy Ts   50415 non-null  datetime64[ns]\n",
      " 1   Revenue  50415 non-null  float64       \n",
      " 2   Uid      50415 non-null  uint64        \n",
      "dtypes: datetime64[ns](1), float64(1), uint64(1)\n",
      "memory usage: 1.2 MB\n"
     ]
    }
   ],
   "source": [
    "# Verificamos que el cambio este hecho\n",
    "data_orders.info()"
   ]
  },
  {
   "cell_type": "markdown",
   "metadata": {},
   "source": [
    "#### Tercer dataset"
   ]
  },
  {
   "cell_type": "markdown",
   "metadata": {},
   "source": [
    "Vamos a pasar la columna `dt` a fecha"
   ]
  },
  {
   "cell_type": "code",
   "execution_count": 19,
   "metadata": {
    "ExecuteTime": {
     "end_time": "2023-07-18T01:06:14.066023400Z",
     "start_time": "2023-07-18T01:06:13.988023700Z"
    }
   },
   "outputs": [],
   "source": [
    "# Pasar dt a tipo fecha\n",
    "data_costs['dt'] =  pd.to_datetime(data_costs['dt'], format=\"%Y.%m.%d\")"
   ]
  },
  {
   "cell_type": "code",
   "execution_count": 20,
   "metadata": {
    "ExecuteTime": {
     "end_time": "2023-07-18T01:06:14.191023700Z",
     "start_time": "2023-07-18T01:06:13.995026500Z"
    }
   },
   "outputs": [
    {
     "name": "stdout",
     "output_type": "stream",
     "text": [
      "<class 'pandas.core.frame.DataFrame'>\n",
      "RangeIndex: 2542 entries, 0 to 2541\n",
      "Data columns (total 3 columns):\n",
      " #   Column     Non-Null Count  Dtype         \n",
      "---  ------     --------------  -----         \n",
      " 0   source_id  2542 non-null   int64         \n",
      " 1   dt         2542 non-null   datetime64[ns]\n",
      " 2   costs      2542 non-null   float64       \n",
      "dtypes: datetime64[ns](1), float64(1), int64(1)\n",
      "memory usage: 59.7 KB\n"
     ]
    }
   ],
   "source": [
    "# Verificamos que el cambio este hecho\n",
    "data_costs.info()"
   ]
  },
  {
   "cell_type": "markdown",
   "metadata": {},
   "source": [
    "Con estas correcciones, nuestros dataset estan listos para nuestro análisis."
   ]
  },
  {
   "cell_type": "markdown",
   "metadata": {},
   "source": [
    "## Creación de informes y cálculo de métricas <a id='informes_calculos'></a>"
   ]
  },
  {
   "cell_type": "markdown",
   "metadata": {},
   "source": [
    "#### Producto\n",
    "\n",
    "Para nuestro primer informe, responderemos las siguientes preguntas del apartado de producto\n",
    "- ¿Cuántas personas lo usan cada día, semana y mes?\n",
    "- ¿Cuántas sesiones hay por día? (Un/a usuario/a puede tener más de una sesión).\n",
    "- ¿Cuál es la duración de cada sesión?\n",
    "- ¿Con qué frecuencia los usuarios y las usuarias regresan?"
   ]
  },
  {
   "cell_type": "code",
   "execution_count": 21,
   "metadata": {
    "ExecuteTime": {
     "end_time": "2023-07-18T01:06:14.226023600Z",
     "start_time": "2023-07-18T01:06:14.026026200Z"
    }
   },
   "outputs": [
    {
     "data": {
      "text/plain": "    Device              End Ts  Source Id            Start Ts  \\\n0    touch 2017-12-20 17:38:00          4 2017-12-20 17:20:00   \n1  desktop 2018-02-19 17:21:00          2 2018-02-19 16:53:00   \n2    touch 2017-07-01 01:54:00          5 2017-07-01 01:54:00   \n3  desktop 2018-05-20 11:23:00          9 2018-05-20 10:59:00   \n4  desktop 2017-12-27 14:06:00          3 2017-12-27 14:06:00   \n5  desktop 2017-09-03 21:36:00          5 2017-09-03 21:35:00   \n6  desktop 2018-01-30 12:09:00          1 2018-01-30 11:13:00   \n7    touch 2017-11-05 15:15:00          3 2017-11-05 15:14:00   \n8  desktop 2017-07-19 10:44:00          3 2017-07-19 10:41:00   \n9  desktop 2017-11-08 13:43:00          5 2017-11-08 13:42:00   \n\n                    Uid  \n0  16879256277535980062  \n1    104060357244891740  \n2   7459035603376831527  \n3  16174680259334210214  \n4   9969694820036681168  \n5  16007536194108375387  \n6   6661610529277171451  \n7  11423865690854540312  \n8   2987360259350925644  \n9   1289240080042562063  ",
      "text/html": "<div>\n<style scoped>\n    .dataframe tbody tr th:only-of-type {\n        vertical-align: middle;\n    }\n\n    .dataframe tbody tr th {\n        vertical-align: top;\n    }\n\n    .dataframe thead th {\n        text-align: right;\n    }\n</style>\n<table border=\"1\" class=\"dataframe\">\n  <thead>\n    <tr style=\"text-align: right;\">\n      <th></th>\n      <th>Device</th>\n      <th>End Ts</th>\n      <th>Source Id</th>\n      <th>Start Ts</th>\n      <th>Uid</th>\n    </tr>\n  </thead>\n  <tbody>\n    <tr>\n      <th>0</th>\n      <td>touch</td>\n      <td>2017-12-20 17:38:00</td>\n      <td>4</td>\n      <td>2017-12-20 17:20:00</td>\n      <td>16879256277535980062</td>\n    </tr>\n    <tr>\n      <th>1</th>\n      <td>desktop</td>\n      <td>2018-02-19 17:21:00</td>\n      <td>2</td>\n      <td>2018-02-19 16:53:00</td>\n      <td>104060357244891740</td>\n    </tr>\n    <tr>\n      <th>2</th>\n      <td>touch</td>\n      <td>2017-07-01 01:54:00</td>\n      <td>5</td>\n      <td>2017-07-01 01:54:00</td>\n      <td>7459035603376831527</td>\n    </tr>\n    <tr>\n      <th>3</th>\n      <td>desktop</td>\n      <td>2018-05-20 11:23:00</td>\n      <td>9</td>\n      <td>2018-05-20 10:59:00</td>\n      <td>16174680259334210214</td>\n    </tr>\n    <tr>\n      <th>4</th>\n      <td>desktop</td>\n      <td>2017-12-27 14:06:00</td>\n      <td>3</td>\n      <td>2017-12-27 14:06:00</td>\n      <td>9969694820036681168</td>\n    </tr>\n    <tr>\n      <th>5</th>\n      <td>desktop</td>\n      <td>2017-09-03 21:36:00</td>\n      <td>5</td>\n      <td>2017-09-03 21:35:00</td>\n      <td>16007536194108375387</td>\n    </tr>\n    <tr>\n      <th>6</th>\n      <td>desktop</td>\n      <td>2018-01-30 12:09:00</td>\n      <td>1</td>\n      <td>2018-01-30 11:13:00</td>\n      <td>6661610529277171451</td>\n    </tr>\n    <tr>\n      <th>7</th>\n      <td>touch</td>\n      <td>2017-11-05 15:15:00</td>\n      <td>3</td>\n      <td>2017-11-05 15:14:00</td>\n      <td>11423865690854540312</td>\n    </tr>\n    <tr>\n      <th>8</th>\n      <td>desktop</td>\n      <td>2017-07-19 10:44:00</td>\n      <td>3</td>\n      <td>2017-07-19 10:41:00</td>\n      <td>2987360259350925644</td>\n    </tr>\n    <tr>\n      <th>9</th>\n      <td>desktop</td>\n      <td>2017-11-08 13:43:00</td>\n      <td>5</td>\n      <td>2017-11-08 13:42:00</td>\n      <td>1289240080042562063</td>\n    </tr>\n  </tbody>\n</table>\n</div>"
     },
     "execution_count": 21,
     "metadata": {},
     "output_type": "execute_result"
    }
   ],
   "source": [
    "# Vemos una muestra de nuestros datos\n",
    "data_visits.head(10)"
   ]
  },
  {
   "cell_type": "markdown",
   "metadata": {},
   "source": [
    "##### ¿Cuántas personas lo usan cada día, semana y mes?"
   ]
  },
  {
   "cell_type": "code",
   "execution_count": 22,
   "metadata": {
    "scrolled": true,
    "ExecuteTime": {
     "end_time": "2023-07-18T01:06:14.535025100Z",
     "start_time": "2023-07-18T01:06:14.059033Z"
    }
   },
   "outputs": [
    {
     "data": {
      "text/plain": "    Device              End Ts  Source Id            Start Ts  \\\n0    touch 2017-12-20 17:38:00          4 2017-12-20 17:20:00   \n1  desktop 2018-02-19 17:21:00          2 2018-02-19 16:53:00   \n2    touch 2017-07-01 01:54:00          5 2017-07-01 01:54:00   \n3  desktop 2018-05-20 11:23:00          9 2018-05-20 10:59:00   \n4  desktop 2017-12-27 14:06:00          3 2017-12-27 14:06:00   \n\n                    Uid  session_year session_month session_week session_date  \n0  16879256277535980062          2017    2017-12-01   2017-12-14   2017-12-20  \n1    104060357244891740          2018    2018-02-01   2018-02-15   2018-02-19  \n2   7459035603376831527          2017    2017-07-01   2017-06-29   2017-07-01  \n3  16174680259334210214          2018    2018-05-01   2018-05-17   2018-05-20  \n4   9969694820036681168          2017    2017-12-01   2017-12-21   2017-12-27  ",
      "text/html": "<div>\n<style scoped>\n    .dataframe tbody tr th:only-of-type {\n        vertical-align: middle;\n    }\n\n    .dataframe tbody tr th {\n        vertical-align: top;\n    }\n\n    .dataframe thead th {\n        text-align: right;\n    }\n</style>\n<table border=\"1\" class=\"dataframe\">\n  <thead>\n    <tr style=\"text-align: right;\">\n      <th></th>\n      <th>Device</th>\n      <th>End Ts</th>\n      <th>Source Id</th>\n      <th>Start Ts</th>\n      <th>Uid</th>\n      <th>session_year</th>\n      <th>session_month</th>\n      <th>session_week</th>\n      <th>session_date</th>\n    </tr>\n  </thead>\n  <tbody>\n    <tr>\n      <th>0</th>\n      <td>touch</td>\n      <td>2017-12-20 17:38:00</td>\n      <td>4</td>\n      <td>2017-12-20 17:20:00</td>\n      <td>16879256277535980062</td>\n      <td>2017</td>\n      <td>2017-12-01</td>\n      <td>2017-12-14</td>\n      <td>2017-12-20</td>\n    </tr>\n    <tr>\n      <th>1</th>\n      <td>desktop</td>\n      <td>2018-02-19 17:21:00</td>\n      <td>2</td>\n      <td>2018-02-19 16:53:00</td>\n      <td>104060357244891740</td>\n      <td>2018</td>\n      <td>2018-02-01</td>\n      <td>2018-02-15</td>\n      <td>2018-02-19</td>\n    </tr>\n    <tr>\n      <th>2</th>\n      <td>touch</td>\n      <td>2017-07-01 01:54:00</td>\n      <td>5</td>\n      <td>2017-07-01 01:54:00</td>\n      <td>7459035603376831527</td>\n      <td>2017</td>\n      <td>2017-07-01</td>\n      <td>2017-06-29</td>\n      <td>2017-07-01</td>\n    </tr>\n    <tr>\n      <th>3</th>\n      <td>desktop</td>\n      <td>2018-05-20 11:23:00</td>\n      <td>9</td>\n      <td>2018-05-20 10:59:00</td>\n      <td>16174680259334210214</td>\n      <td>2018</td>\n      <td>2018-05-01</td>\n      <td>2018-05-17</td>\n      <td>2018-05-20</td>\n    </tr>\n    <tr>\n      <th>4</th>\n      <td>desktop</td>\n      <td>2017-12-27 14:06:00</td>\n      <td>3</td>\n      <td>2017-12-27 14:06:00</td>\n      <td>9969694820036681168</td>\n      <td>2017</td>\n      <td>2017-12-01</td>\n      <td>2017-12-21</td>\n      <td>2017-12-27</td>\n    </tr>\n  </tbody>\n</table>\n</div>"
     },
     "execution_count": 22,
     "metadata": {},
     "output_type": "execute_result"
    }
   ],
   "source": [
    "# Vemos el uso del producto por dia, semana y mes\n",
    "data_visits['session_year']  = data_visits['Start Ts'].dt.year\n",
    "data_visits['session_month'] = data_visits['Start Ts'].astype('datetime64[M]') \n",
    "data_visits['session_week']  = data_visits['Start Ts'].astype('datetime64[W]')\n",
    "data_visits['session_date'] = data_visits['Start Ts'].dt.date\n",
    "data_visits.head()"
   ]
  },
  {
   "cell_type": "code",
   "execution_count": 23,
   "metadata": {
    "scrolled": true,
    "ExecuteTime": {
     "end_time": "2023-07-18T01:06:15.245023900Z",
     "start_time": "2023-07-18T01:06:14.441026Z"
    }
   },
   "outputs": [
    {
     "name": "stdout",
     "output_type": "stream",
     "text": [
      "Los usuarios medios por dia son: 907\n",
      "Los usuarios medios por semana son: 5724\n",
      "Los usuarios medios por mes son: 23228\n"
     ]
    }
   ],
   "source": [
    "# Agrupacion por mes, semana y dia\n",
    "dau_total_visits = data_visits.groupby('session_date').agg({'Uid': 'nunique'})\n",
    "wau_total_visits = data_visits.groupby(['session_week']).agg({'Uid': 'nunique'})\n",
    "mau_total_visits = data_visits.groupby(['session_month']).agg({'Uid': 'nunique'})\n",
    "\n",
    "print('Los usuarios medios por dia son:', int(dau_total_visits.mean()))\n",
    "print('Los usuarios medios por semana son:', int(wau_total_visits.mean()))\n",
    "print('Los usuarios medios por mes son:', int(mau_total_visits.mean()))"
   ]
  },
  {
   "cell_type": "code",
   "execution_count": 24,
   "metadata": {
    "ExecuteTime": {
     "end_time": "2023-07-18T01:06:16.979026800Z",
     "start_time": "2023-07-18T01:06:15.249040Z"
    }
   },
   "outputs": [
    {
     "data": {
      "text/plain": "<Figure size 1368x360 with 3 Axes>",
      "image/png": "[encoded data removed]"
     },
     "metadata": {},
     "output_type": "display_data"
    }
   ],
   "source": [
    "# Grafica de usuarios por dia, semana y mes\n",
    "fig, ax = plt.subplots(1, 3, figsize=(19, 5))\n",
    "ax[0].plot(dau_total_visits)\n",
    "ax[0].set(title = 'DAU', xlabel = 'Fecha', ylabel = 'Usuarios')\n",
    "ax[1].plot(wau_total_visits)\n",
    "ax[1].set(title = 'WAU', xlabel = 'Fecha', ylabel = 'Usuarios')\n",
    "ax[2].plot(mau_total_visits)\n",
    "ax[2].set(title = 'MAU', xlabel = 'Fecha', ylabel = 'Usuarios')\n",
    "fig.autofmt_xdate(rotation=30)\n",
    "plt.show()"
   ]
  },
  {
   "cell_type": "markdown",
   "metadata": {},
   "source": [
    "##### ¿Cuántas sesiones hay por día? (Un/a usuario/a puede tener más de una sesión)"
   ]
  },
  {
   "cell_type": "code",
   "execution_count": 25,
   "metadata": {
    "ExecuteTime": {
     "end_time": "2023-07-18T01:06:17.372027500Z",
     "start_time": "2023-07-18T01:06:16.981025700Z"
    }
   },
   "outputs": [
    {
     "name": "stdout",
     "output_type": "stream",
     "text": [
      "El número de sesiones promedio por dia son: 1.0821696440039723\n"
     ]
    }
   ],
   "source": [
    "# Tabla para ver las sesiones y usuarios por dia\n",
    "sessions_per_user = data_visits.groupby('session_date').agg(\n",
    "    {'Uid': ['count', 'nunique']}\n",
    ")\n",
    "sessions_per_user.columns = ['n_sessions', 'n_users']\n",
    "sessions_per_user['sessions_per_user'] = (\n",
    "    sessions_per_user['n_sessions'] / sessions_per_user['n_users']\n",
    ")\n",
    "print('El número de sesiones promedio por dia son:',sessions_per_user.sessions_per_user.mean())"
   ]
  },
  {
   "cell_type": "code",
   "execution_count": 26,
   "metadata": {
    "ExecuteTime": {
     "end_time": "2023-07-18T01:06:17.811036800Z",
     "start_time": "2023-07-18T01:06:17.376025Z"
    }
   },
   "outputs": [
    {
     "data": {
      "text/plain": "[Text(0.5, 1.0, 'Sesiones por usuario'),\n Text(0.5, 0, 'Fecha'),\n Text(0, 0.5, 'Sesiones')]"
     },
     "execution_count": 26,
     "metadata": {},
     "output_type": "execute_result"
    },
    {
     "data": {
      "text/plain": "<Figure size 864x360 with 1 Axes>",
      "image/png": "[encoded data removed]"
     },
     "metadata": {},
     "output_type": "display_data"
    }
   ],
   "source": [
    "plt.figure(figsize= (12,5))\n",
    "sessions_per_user['sessions_per_user'].plot().set(title = 'Sesiones por usuario', xlabel = 'Fecha', ylabel = 'Sesiones')"
   ]
  },
  {
   "cell_type": "markdown",
   "metadata": {},
   "source": [
    "##### ¿Cuál es la duración de cada sesión?"
   ]
  },
  {
   "cell_type": "code",
   "execution_count": 27,
   "metadata": {
    "ExecuteTime": {
     "end_time": "2023-07-18T01:06:18.190026500Z",
     "start_time": "2023-07-18T01:06:17.814026800Z"
    }
   },
   "outputs": [
    {
     "data": {
      "text/plain": "<AxesSubplot:>"
     },
     "execution_count": 27,
     "metadata": {},
     "output_type": "execute_result"
    },
    {
     "data": {
      "text/plain": "<Figure size 432x288 with 1 Axes>",
      "image/png": "[encoded data removed]"
     },
     "metadata": {},
     "output_type": "display_data"
    }
   ],
   "source": [
    "# Calcular ASL\n",
    "data_visits['session_duration_sec'] = (data_visits['End Ts'] - data_visits['Start Ts']).dt.seconds\n",
    "\n",
    "# Vemos la distribucion de las sesiones\n",
    "data_visits['session_duration_sec'].hist(bins=50)"
   ]
  },
  {
   "cell_type": "markdown",
   "metadata": {},
   "source": [
    "Vemos que nuestra distribución no es normal por lo que se recomienda ocupar la moda para calcular nuestra duración por sesion"
   ]
  },
  {
   "cell_type": "code",
   "execution_count": 28,
   "metadata": {
    "ExecuteTime": {
     "end_time": "2023-07-18T01:06:18.192029400Z",
     "start_time": "2023-07-18T01:06:18.171026800Z"
    }
   },
   "outputs": [
    {
     "name": "stdout",
     "output_type": "stream",
     "text": [
      "La duración de cada sesión son: 60 segundos\n"
     ]
    }
   ],
   "source": [
    "print('La duración de cada sesión son:',int(data_visits['session_duration_sec'].mode()), 'segundos')"
   ]
  },
  {
   "cell_type": "markdown",
   "metadata": {},
   "source": [
    "##### ¿Con qué frecuencia los usuarios y las usuarias regresan?"
   ]
  },
  {
   "cell_type": "code",
   "execution_count": 29,
   "metadata": {
    "ExecuteTime": {
     "end_time": "2023-07-18T01:06:18.387022300Z",
     "start_time": "2023-07-18T01:06:18.186026800Z"
    }
   },
   "outputs": [
    {
     "name": "stdout",
     "output_type": "stream",
     "text": [
      "Los usuarios y usuarias regresan con una frecuencia de 15.85% semanal.\n"
     ]
    }
   ],
   "source": [
    "# Sticky factor para saber el nivel de lealtad de la audicencia\n",
    "sticky_factor = int(dau_total_visits.mean()) / int(wau_total_visits.mean())\n",
    "print(f'Los usuarios y usuarias regresan con una frecuencia de {sticky_factor:.2%} semanal.')"
   ]
  },
  {
   "cell_type": "markdown",
   "metadata": {},
   "source": [
    "##### Conclusiones producto\n",
    "\n",
    "- ¿Cuántas personas lo usan cada día, semana y mes?\n",
    "- ¿Cuántas sesiones hay por día? (Un/a usuario/a puede tener más de una sesión).\n",
    "- ¿Cuál es la duración de cada sesión?\n",
    "- ¿Con qué frecuencia los usuarios y las usuarias regresan?\n",
    "\n",
    "Una vez realizado el análisis tenemos que:\n",
    "- 907 personas ocupan el producto al dia, 5,716 a la semana y un total 23,228 personas al mes\n",
    "- El número promedio de sesiones al dia es de 1 por usuario y tienen una duración de 60 segundos. Bastante rapida\n",
    "- La frecuencia con la que regresan nuestros usuarios es de 15.85% cada semana"
   ]
  },
  {
   "cell_type": "markdown",
   "metadata": {},
   "source": [
    "#### Ventas\n",
    "\n",
    "Para nuestro segundo informe, responderemos las siguientes preguntas del apartado de producto\n",
    "- ¿Cuándo la gente empieza a comprar? - (En el análisis de KPI, generalmente nos interesa saber el tiempo que transcurre entre el registro y la conversión, es decir, cuando el/la usuario/a se convierte en cliente. Por ejemplo, si el registro y la primera compra ocurren el mismo día, el/la usuario/a podría caer en la categoría Conversion 0d. Si la primera compra ocurre al día siguiente, será Conversion 1d. Puedes usar cualquier enfoque que te permita comparar las conversiones de diferentes cohortes para que puedas determinar qué cohorte o canal de marketing es más efectivo).\n",
    "- ¿Cuántos pedidos hacen durante un período de tiempo dado?.\n",
    "- ¿Cuál es el tamaño promedio de compra?\n",
    "- ¿Cuánto dinero traen? (LTV)"
   ]
  },
  {
   "cell_type": "code",
   "execution_count": 30,
   "metadata": {
    "ExecuteTime": {
     "end_time": "2023-07-18T01:06:18.416025Z",
     "start_time": "2023-07-18T01:06:18.202022700Z"
    }
   },
   "outputs": [
    {
     "data": {
      "text/plain": "               Buy Ts  Revenue                   Uid\n0 2017-06-01 00:10:00    17.00  10329302124590727494\n1 2017-06-01 00:25:00     0.55  11627257723692907447\n2 2017-06-01 00:27:00     0.37  17903680561304213844\n3 2017-06-01 00:29:00     0.55  16109239769442553005\n4 2017-06-01 07:58:00     0.37  14200605875248379450",
      "text/html": "<div>\n<style scoped>\n    .dataframe tbody tr th:only-of-type {\n        vertical-align: middle;\n    }\n\n    .dataframe tbody tr th {\n        vertical-align: top;\n    }\n\n    .dataframe thead th {\n        text-align: right;\n    }\n</style>\n<table border=\"1\" class=\"dataframe\">\n  <thead>\n    <tr style=\"text-align: right;\">\n      <th></th>\n      <th>Buy Ts</th>\n      <th>Revenue</th>\n      <th>Uid</th>\n    </tr>\n  </thead>\n  <tbody>\n    <tr>\n      <th>0</th>\n      <td>2017-06-01 00:10:00</td>\n      <td>17.00</td>\n      <td>10329302124590727494</td>\n    </tr>\n    <tr>\n      <th>1</th>\n      <td>2017-06-01 00:25:00</td>\n      <td>0.55</td>\n      <td>11627257723692907447</td>\n    </tr>\n    <tr>\n      <th>2</th>\n      <td>2017-06-01 00:27:00</td>\n      <td>0.37</td>\n      <td>17903680561304213844</td>\n    </tr>\n    <tr>\n      <th>3</th>\n      <td>2017-06-01 00:29:00</td>\n      <td>0.55</td>\n      <td>16109239769442553005</td>\n    </tr>\n    <tr>\n      <th>4</th>\n      <td>2017-06-01 07:58:00</td>\n      <td>0.37</td>\n      <td>14200605875248379450</td>\n    </tr>\n  </tbody>\n</table>\n</div>"
     },
     "execution_count": 30,
     "metadata": {},
     "output_type": "execute_result"
    }
   ],
   "source": [
    "# Veamos una muestra de nuestros datos\n",
    "data_orders.head()"
   ]
  },
  {
   "cell_type": "markdown",
   "metadata": {},
   "source": [
    "##### ¿Cuándo la gente empieza a comprar?"
   ]
  },
  {
   "cell_type": "code",
   "execution_count": 31,
   "metadata": {
    "ExecuteTime": {
     "end_time": "2023-07-18T01:06:18.418022400Z",
     "start_time": "2023-07-18T01:06:18.235026800Z"
    }
   },
   "outputs": [
    {
     "data": {
      "text/plain": "                Uid      first_buy_date\n0   313578113262317 2018-01-03 21:51:00\n1  1575281904278712 2017-06-03 10:13:00\n2  2429014661409475 2017-10-11 18:33:00\n3  2464366381792757 2018-01-28 15:54:00\n4  2551852515556206 2017-11-24 10:14:00",
      "text/html": "<div>\n<style scoped>\n    .dataframe tbody tr th:only-of-type {\n        vertical-align: middle;\n    }\n\n    .dataframe tbody tr th {\n        vertical-align: top;\n    }\n\n    .dataframe thead th {\n        text-align: right;\n    }\n</style>\n<table border=\"1\" class=\"dataframe\">\n  <thead>\n    <tr style=\"text-align: right;\">\n      <th></th>\n      <th>Uid</th>\n      <th>first_buy_date</th>\n    </tr>\n  </thead>\n  <tbody>\n    <tr>\n      <th>0</th>\n      <td>313578113262317</td>\n      <td>2018-01-03 21:51:00</td>\n    </tr>\n    <tr>\n      <th>1</th>\n      <td>1575281904278712</td>\n      <td>2017-06-03 10:13:00</td>\n    </tr>\n    <tr>\n      <th>2</th>\n      <td>2429014661409475</td>\n      <td>2017-10-11 18:33:00</td>\n    </tr>\n    <tr>\n      <th>3</th>\n      <td>2464366381792757</td>\n      <td>2018-01-28 15:54:00</td>\n    </tr>\n    <tr>\n      <th>4</th>\n      <td>2551852515556206</td>\n      <td>2017-11-24 10:14:00</td>\n    </tr>\n  </tbody>\n</table>\n</div>"
     },
     "execution_count": 31,
     "metadata": {},
     "output_type": "execute_result"
    }
   ],
   "source": [
    "# Generamos la fecha de la primera compra\n",
    "first_buy_date = data_orders.groupby(['Uid'])['Buy Ts'].min().reset_index()\n",
    "first_buy_date = first_buy_date.rename(\n",
    "    columns={'Buy Ts': 'first_buy_date'}\n",
    ")\n",
    "\n",
    "# Checamos que la tabla\n",
    "first_buy_date.head()"
   ]
  },
  {
   "cell_type": "code",
   "execution_count": 32,
   "metadata": {
    "ExecuteTime": {
     "end_time": "2023-07-18T01:06:18.449024500Z",
     "start_time": "2023-07-18T01:06:18.265023400Z"
    }
   },
   "outputs": [
    {
     "data": {
      "text/plain": "               Uid first_activity_date\n0   11863502262781 2018-03-01 17:27:00\n1   49537067089222 2018-02-06 15:55:00\n2  297729379853735 2017-06-07 18:47:00\n3  313578113262317 2017-09-18 22:49:00\n4  325320750514679 2017-09-30 14:29:00",
      "text/html": "<div>\n<style scoped>\n    .dataframe tbody tr th:only-of-type {\n        vertical-align: middle;\n    }\n\n    .dataframe tbody tr th {\n        vertical-align: top;\n    }\n\n    .dataframe thead th {\n        text-align: right;\n    }\n</style>\n<table border=\"1\" class=\"dataframe\">\n  <thead>\n    <tr style=\"text-align: right;\">\n      <th></th>\n      <th>Uid</th>\n      <th>first_activity_date</th>\n    </tr>\n  </thead>\n  <tbody>\n    <tr>\n      <th>0</th>\n      <td>11863502262781</td>\n      <td>2018-03-01 17:27:00</td>\n    </tr>\n    <tr>\n      <th>1</th>\n      <td>49537067089222</td>\n      <td>2018-02-06 15:55:00</td>\n    </tr>\n    <tr>\n      <th>2</th>\n      <td>297729379853735</td>\n      <td>2017-06-07 18:47:00</td>\n    </tr>\n    <tr>\n      <th>3</th>\n      <td>313578113262317</td>\n      <td>2017-09-18 22:49:00</td>\n    </tr>\n    <tr>\n      <th>4</th>\n      <td>325320750514679</td>\n      <td>2017-09-30 14:29:00</td>\n    </tr>\n  </tbody>\n</table>\n</div>"
     },
     "execution_count": 32,
     "metadata": {},
     "output_type": "execute_result"
    }
   ],
   "source": [
    "# Generamos la fecha de la primera visita al sitio\n",
    "first_activity_date = data_visits.groupby(['Uid'])['Start Ts'].min().reset_index()\n",
    "first_activity_date = first_activity_date.rename(\n",
    "    columns={'Start Ts': 'first_activity_date'}\n",
    ")\n",
    "# Checamos que la tabla\n",
    "first_activity_date.head()"
   ]
  },
  {
   "cell_type": "code",
   "execution_count": 33,
   "metadata": {
    "ExecuteTime": {
     "end_time": "2023-07-18T01:06:18.625022100Z",
     "start_time": "2023-07-18T01:06:18.411027400Z"
    }
   },
   "outputs": [
    {
     "data": {
      "text/plain": "                Uid      first_buy_date first_activity_date\n0   313578113262317 2018-01-03 21:51:00 2017-09-18 22:49:00\n1  1575281904278712 2017-06-03 10:13:00 2017-06-03 10:13:00\n2  2429014661409475 2017-10-11 18:33:00 2017-10-11 17:14:00\n3  2464366381792757 2018-01-28 15:54:00 2018-01-27 20:10:00\n4  2551852515556206 2017-11-24 10:14:00 2017-11-24 10:14:00",
      "text/html": "<div>\n<style scoped>\n    .dataframe tbody tr th:only-of-type {\n        vertical-align: middle;\n    }\n\n    .dataframe tbody tr th {\n        vertical-align: top;\n    }\n\n    .dataframe thead th {\n        text-align: right;\n    }\n</style>\n<table border=\"1\" class=\"dataframe\">\n  <thead>\n    <tr style=\"text-align: right;\">\n      <th></th>\n      <th>Uid</th>\n      <th>first_buy_date</th>\n      <th>first_activity_date</th>\n    </tr>\n  </thead>\n  <tbody>\n    <tr>\n      <th>0</th>\n      <td>313578113262317</td>\n      <td>2018-01-03 21:51:00</td>\n      <td>2017-09-18 22:49:00</td>\n    </tr>\n    <tr>\n      <th>1</th>\n      <td>1575281904278712</td>\n      <td>2017-06-03 10:13:00</td>\n      <td>2017-06-03 10:13:00</td>\n    </tr>\n    <tr>\n      <th>2</th>\n      <td>2429014661409475</td>\n      <td>2017-10-11 18:33:00</td>\n      <td>2017-10-11 17:14:00</td>\n    </tr>\n    <tr>\n      <th>3</th>\n      <td>2464366381792757</td>\n      <td>2018-01-28 15:54:00</td>\n      <td>2018-01-27 20:10:00</td>\n    </tr>\n    <tr>\n      <th>4</th>\n      <td>2551852515556206</td>\n      <td>2017-11-24 10:14:00</td>\n      <td>2017-11-24 10:14:00</td>\n    </tr>\n  </tbody>\n</table>\n</div>"
     },
     "execution_count": 33,
     "metadata": {},
     "output_type": "execute_result"
    }
   ],
   "source": [
    "# Unimos los datos de la primera visita al sitio web en las ordenes\n",
    "first_buy_date = first_buy_date.merge(first_activity_date,on='Uid')\n",
    "\n",
    "# Mostramos la adicion a los datos\n",
    "first_buy_date.head()"
   ]
  },
  {
   "cell_type": "code",
   "execution_count": 34,
   "metadata": {
    "ExecuteTime": {
     "end_time": "2023-07-18T01:06:18.808027700Z",
     "start_time": "2023-07-18T01:06:18.503023900Z"
    }
   },
   "outputs": [
    {
     "data": {
      "text/plain": "                Uid first_buy_date first_activity_date\n0   313578113262317     2018-01-03          2017-09-18\n1  1575281904278712     2017-06-03          2017-06-03\n2  2429014661409475     2017-10-11          2017-10-11\n3  2464366381792757     2018-01-28          2018-01-27\n4  2551852515556206     2017-11-24          2017-11-24",
      "text/html": "<div>\n<style scoped>\n    .dataframe tbody tr th:only-of-type {\n        vertical-align: middle;\n    }\n\n    .dataframe tbody tr th {\n        vertical-align: top;\n    }\n\n    .dataframe thead th {\n        text-align: right;\n    }\n</style>\n<table border=\"1\" class=\"dataframe\">\n  <thead>\n    <tr style=\"text-align: right;\">\n      <th></th>\n      <th>Uid</th>\n      <th>first_buy_date</th>\n      <th>first_activity_date</th>\n    </tr>\n  </thead>\n  <tbody>\n    <tr>\n      <th>0</th>\n      <td>313578113262317</td>\n      <td>2018-01-03</td>\n      <td>2017-09-18</td>\n    </tr>\n    <tr>\n      <th>1</th>\n      <td>1575281904278712</td>\n      <td>2017-06-03</td>\n      <td>2017-06-03</td>\n    </tr>\n    <tr>\n      <th>2</th>\n      <td>2429014661409475</td>\n      <td>2017-10-11</td>\n      <td>2017-10-11</td>\n    </tr>\n    <tr>\n      <th>3</th>\n      <td>2464366381792757</td>\n      <td>2018-01-28</td>\n      <td>2018-01-27</td>\n    </tr>\n    <tr>\n      <th>4</th>\n      <td>2551852515556206</td>\n      <td>2017-11-24</td>\n      <td>2017-11-24</td>\n    </tr>\n  </tbody>\n</table>\n</div>"
     },
     "execution_count": 34,
     "metadata": {},
     "output_type": "execute_result"
    }
   ],
   "source": [
    "# Pasamos las fechas a date sin hora\n",
    "first_buy_date['first_buy_date'] = first_buy_date['first_buy_date'].dt.date\n",
    "first_buy_date['first_activity_date'] = first_buy_date['first_activity_date'].dt.date\n",
    "\n",
    "# Verificamos el cambio\n",
    "first_buy_date.head()"
   ]
  },
  {
   "cell_type": "code",
   "execution_count": 35,
   "metadata": {
    "ExecuteTime": {
     "end_time": "2023-07-18T01:06:19.003021400Z",
     "start_time": "2023-07-18T01:06:18.563026100Z"
    }
   },
   "outputs": [
    {
     "data": {
      "text/plain": "                Uid first_buy_date first_activity_date  wait_days\n0   313578113262317     2018-01-03          2017-09-18        107\n1  1575281904278712     2017-06-03          2017-06-03          0\n2  2429014661409475     2017-10-11          2017-10-11          0\n3  2464366381792757     2018-01-28          2018-01-27          1\n4  2551852515556206     2017-11-24          2017-11-24          0",
      "text/html": "<div>\n<style scoped>\n    .dataframe tbody tr th:only-of-type {\n        vertical-align: middle;\n    }\n\n    .dataframe tbody tr th {\n        vertical-align: top;\n    }\n\n    .dataframe thead th {\n        text-align: right;\n    }\n</style>\n<table border=\"1\" class=\"dataframe\">\n  <thead>\n    <tr style=\"text-align: right;\">\n      <th></th>\n      <th>Uid</th>\n      <th>first_buy_date</th>\n      <th>first_activity_date</th>\n      <th>wait_days</th>\n    </tr>\n  </thead>\n  <tbody>\n    <tr>\n      <th>0</th>\n      <td>313578113262317</td>\n      <td>2018-01-03</td>\n      <td>2017-09-18</td>\n      <td>107</td>\n    </tr>\n    <tr>\n      <th>1</th>\n      <td>1575281904278712</td>\n      <td>2017-06-03</td>\n      <td>2017-06-03</td>\n      <td>0</td>\n    </tr>\n    <tr>\n      <th>2</th>\n      <td>2429014661409475</td>\n      <td>2017-10-11</td>\n      <td>2017-10-11</td>\n      <td>0</td>\n    </tr>\n    <tr>\n      <th>3</th>\n      <td>2464366381792757</td>\n      <td>2018-01-28</td>\n      <td>2018-01-27</td>\n      <td>1</td>\n    </tr>\n    <tr>\n      <th>4</th>\n      <td>2551852515556206</td>\n      <td>2017-11-24</td>\n      <td>2017-11-24</td>\n      <td>0</td>\n    </tr>\n  </tbody>\n</table>\n</div>"
     },
     "execution_count": 35,
     "metadata": {},
     "output_type": "execute_result"
    }
   ],
   "source": [
    "# Tiempo entre la primera visita y la primera compra\n",
    "first_buy_date['wait_days'] = first_buy_date['first_buy_date'] - first_buy_date['first_activity_date']\n",
    "first_buy_date['wait_days'] = first_buy_date['wait_days'] / np.timedelta64(1, 'D')\n",
    "first_buy_date['wait_days'] = first_buy_date['wait_days'].astype(int)\n",
    "\n",
    "# Verificamos los cambios\n",
    "first_buy_date.head()"
   ]
  },
  {
   "cell_type": "code",
   "execution_count": 36,
   "metadata": {
    "ExecuteTime": {
     "end_time": "2023-07-18T01:06:19.368025600Z",
     "start_time": "2023-07-18T01:06:18.703024200Z"
    }
   },
   "outputs": [
    {
     "data": {
      "text/plain": "<AxesSubplot:>"
     },
     "execution_count": 36,
     "metadata": {},
     "output_type": "execute_result"
    },
    {
     "data": {
      "text/plain": "<Figure size 432x288 with 1 Axes>",
      "image/png": "[encoded data removed]"
     },
     "metadata": {},
     "output_type": "display_data"
    }
   ],
   "source": [
    "# Vemos la distribucion de los dias\n",
    "first_buy_date['wait_days'].hist(bins=50)"
   ]
  },
  {
   "cell_type": "markdown",
   "metadata": {},
   "source": [
    "Vemos que nuestra distribución no es normal por lo que se recomienda ocupar la moda para calcular nuestros dias de espera"
   ]
  },
  {
   "cell_type": "code",
   "execution_count": 37,
   "metadata": {
    "scrolled": true,
    "ExecuteTime": {
     "end_time": "2023-07-18T01:06:19.369032100Z",
     "start_time": "2023-07-18T01:06:19.050028200Z"
    }
   },
   "outputs": [
    {
     "name": "stdout",
     "output_type": "stream",
     "text": [
      "La gente tarda 0 días en hacer su primera compra\n"
     ]
    }
   ],
   "source": [
    "print('La gente tarda',int(first_buy_date['wait_days'].mode()), 'días en hacer su primera compra')"
   ]
  },
  {
   "cell_type": "markdown",
   "metadata": {},
   "source": [
    "##### ¿Cuántos pedidos hacen durante un período de tiempo dado?"
   ]
  },
  {
   "cell_type": "code",
   "execution_count": 38,
   "metadata": {
    "scrolled": true,
    "ExecuteTime": {
     "end_time": "2023-07-18T01:06:19.439021600Z",
     "start_time": "2023-07-18T01:06:19.066025200Z"
    }
   },
   "outputs": [
    {
     "name": "stdout",
     "output_type": "stream",
     "text": [
      "               Buy Ts  Revenue                   Uid  order_year order_month  \\\n",
      "0 2017-06-01 00:10:00    17.00  10329302124590727494        2017  2017-06-01   \n",
      "1 2017-06-01 00:25:00     0.55  11627257723692907447        2017  2017-06-01   \n",
      "2 2017-06-01 00:27:00     0.37  17903680561304213844        2017  2017-06-01   \n",
      "3 2017-06-01 00:29:00     0.55  16109239769442553005        2017  2017-06-01   \n",
      "4 2017-06-01 07:58:00     0.37  14200605875248379450        2017  2017-06-01   \n",
      "\n",
      "  order_week  order_date  \n",
      "0 2017-06-01  2017-06-01  \n",
      "1 2017-06-01  2017-06-01  \n",
      "2 2017-06-01  2017-06-01  \n",
      "3 2017-06-01  2017-06-01  \n",
      "4 2017-06-01  2017-06-01  \n"
     ]
    }
   ],
   "source": [
    "# Agregamos el mes, año, semana y dia al dataframe\n",
    "data_orders['order_year']  = data_orders['Buy Ts'].dt.year\n",
    "data_orders['order_month'] = data_orders['Buy Ts'].astype('datetime64[M]')\n",
    "data_orders['order_week']  = data_orders['Buy Ts'].astype('datetime64[W]')\n",
    "data_orders['order_date'] = data_orders['Buy Ts'].dt.date\n",
    "\n",
    "# Verificamos los datos agregados\n",
    "print(data_orders.head())"
   ]
  },
  {
   "cell_type": "code",
   "execution_count": 39,
   "metadata": {
    "scrolled": false,
    "ExecuteTime": {
     "end_time": "2023-07-18T01:06:19.598023900Z",
     "start_time": "2023-07-18T01:06:19.135025800Z"
    }
   },
   "outputs": [
    {
     "name": "stdout",
     "output_type": "stream",
     "text": [
      "Los pedidos medios por comprador por dia son: 1.0830755349316834\n",
      "Los pedidos medios por comprador por semana son: 1.1627343804054522\n",
      "Los pedidos medios por comprador por mes son: 1.2290645798288597\n",
      "Los pedidos medios por comprador por año son: 1.3215287425620592\n"
     ]
    }
   ],
   "source": [
    "# Agrupacion por mes, semana y dia\n",
    "dau_total_orders = data_orders.groupby(['order_date', 'Uid'])['Buy Ts'].count().mean()\n",
    "wau_total_orders = data_orders.groupby(['order_week', 'Uid'])['Buy Ts'].count().mean()\n",
    "mau_total_orders = data_orders.groupby(['order_month', 'Uid'])['Buy Ts'].count().mean()\n",
    "yau_total_orders = data_orders.groupby(['order_year', 'Uid'])['Buy Ts'].count().mean()\n",
    "\n",
    "print('Los pedidos medios por comprador por dia son:', dau_total_orders)\n",
    "print('Los pedidos medios por comprador por semana son:', wau_total_orders)\n",
    "print('Los pedidos medios por comprador por mes son:', mau_total_orders)\n",
    "print('Los pedidos medios por comprador por año son:', yau_total_orders)"
   ]
  },
  {
   "cell_type": "code",
   "execution_count": 40,
   "metadata": {
    "ExecuteTime": {
     "end_time": "2023-07-18T01:06:19.598023900Z",
     "start_time": "2023-07-18T01:06:19.256025Z"
    }
   },
   "outputs": [
    {
     "name": "stdout",
     "output_type": "stream",
     "text": [
      "En general, los pedidos promedio por comprador son de: 1.3803630588943954\n"
     ]
    }
   ],
   "source": [
    "print('En general, los pedidos promedio por comprador son de:', data_orders.groupby('Uid')['Buy Ts'].count().mean())"
   ]
  },
  {
   "cell_type": "markdown",
   "metadata": {},
   "source": [
    "##### ¿Cuál es el tamaño promedio de compra?"
   ]
  },
  {
   "cell_type": "code",
   "execution_count": 41,
   "metadata": {
    "scrolled": true,
    "ExecuteTime": {
     "end_time": "2023-07-18T01:06:19.601027300Z",
     "start_time": "2023-07-18T01:06:19.288030500Z"
    }
   },
   "outputs": [
    {
     "name": "stdout",
     "output_type": "stream",
     "text": [
      "El tamaño promedio de compra por dia son: 692\n",
      "El tamaño promedio de compra por semana son: 4755\n",
      "El tamaño promedio de compra por mes son: 19389\n"
     ]
    }
   ],
   "source": [
    "# Agrupación por mes, semana y día de el gasto hecho por los usuarios\n",
    "dau_total_revenue = data_orders.groupby('order_date').agg({'Revenue': 'sum'}).mean()\n",
    "wau_total_revenue = data_orders.groupby(['order_week']).agg({'Revenue': 'sum'}).mean()\n",
    "mau_total_revenue = data_orders.groupby(['order_month']).agg({'Revenue': 'sum'}).mean()\n",
    "\n",
    "print('El tamaño promedio de compra por dia son:', int(dau_total_revenue))\n",
    "print('El tamaño promedio de compra por semana son:', int(wau_total_revenue))\n",
    "print('El tamaño promedio de compra por mes son:', int(mau_total_revenue))"
   ]
  },
  {
   "cell_type": "code",
   "execution_count": 42,
   "metadata": {
    "ExecuteTime": {
     "end_time": "2023-07-18T01:06:19.633022700Z",
     "start_time": "2023-07-18T01:06:19.336026400Z"
    }
   },
   "outputs": [
    {
     "name": "stdout",
     "output_type": "stream",
     "text": [
      "La tamaño medio por pedido general es: 5.0\n"
     ]
    }
   ],
   "source": [
    "print(\"La tamaño medio por pedido general es:\", round(data_orders['Revenue'].mean(),2))"
   ]
  },
  {
   "cell_type": "markdown",
   "metadata": {},
   "source": [
    "##### ¿Cuánto dinero traen? (LTV)"
   ]
  },
  {
   "cell_type": "code",
   "execution_count": 43,
   "metadata": {
    "ExecuteTime": {
     "end_time": "2023-07-18T01:06:19.989027400Z",
     "start_time": "2023-07-18T01:06:19.353028400Z"
    }
   },
   "outputs": [
    {
     "data": {
      "text/plain": "                        Uid first_buy_date first_buy_month\n0           313578113262317     2018-01-03      2018-01-01\n1          1575281904278712     2017-06-03      2017-06-01\n2          2429014661409475     2017-10-11      2017-10-01\n3          2464366381792757     2018-01-28      2018-01-01\n4          2551852515556206     2017-11-24      2017-11-01\n...                     ...            ...             ...\n36518  18445147675727495770     2017-11-24      2017-11-01\n36519  18445407535914413204     2017-09-22      2017-09-01\n36520  18445601152732270159     2018-03-26      2018-03-01\n36521  18446156210226471712     2018-02-18      2018-02-01\n36522  18446167067214817906     2017-10-17      2017-10-01\n\n[36523 rows x 3 columns]",
      "text/html": "<div>\n<style scoped>\n    .dataframe tbody tr th:only-of-type {\n        vertical-align: middle;\n    }\n\n    .dataframe tbody tr th {\n        vertical-align: top;\n    }\n\n    .dataframe thead th {\n        text-align: right;\n    }\n</style>\n<table border=\"1\" class=\"dataframe\">\n  <thead>\n    <tr style=\"text-align: right;\">\n      <th></th>\n      <th>Uid</th>\n      <th>first_buy_date</th>\n      <th>first_buy_month</th>\n    </tr>\n  </thead>\n  <tbody>\n    <tr>\n      <th>0</th>\n      <td>313578113262317</td>\n      <td>2018-01-03</td>\n      <td>2018-01-01</td>\n    </tr>\n    <tr>\n      <th>1</th>\n      <td>1575281904278712</td>\n      <td>2017-06-03</td>\n      <td>2017-06-01</td>\n    </tr>\n    <tr>\n      <th>2</th>\n      <td>2429014661409475</td>\n      <td>2017-10-11</td>\n      <td>2017-10-01</td>\n    </tr>\n    <tr>\n      <th>3</th>\n      <td>2464366381792757</td>\n      <td>2018-01-28</td>\n      <td>2018-01-01</td>\n    </tr>\n    <tr>\n      <th>4</th>\n      <td>2551852515556206</td>\n      <td>2017-11-24</td>\n      <td>2017-11-01</td>\n    </tr>\n    <tr>\n      <th>...</th>\n      <td>...</td>\n      <td>...</td>\n      <td>...</td>\n    </tr>\n    <tr>\n      <th>36518</th>\n      <td>18445147675727495770</td>\n      <td>2017-11-24</td>\n      <td>2017-11-01</td>\n    </tr>\n    <tr>\n      <th>36519</th>\n      <td>18445407535914413204</td>\n      <td>2017-09-22</td>\n      <td>2017-09-01</td>\n    </tr>\n    <tr>\n      <th>36520</th>\n      <td>18445601152732270159</td>\n      <td>2018-03-26</td>\n      <td>2018-03-01</td>\n    </tr>\n    <tr>\n      <th>36521</th>\n      <td>18446156210226471712</td>\n      <td>2018-02-18</td>\n      <td>2018-02-01</td>\n    </tr>\n    <tr>\n      <th>36522</th>\n      <td>18446167067214817906</td>\n      <td>2017-10-17</td>\n      <td>2017-10-01</td>\n    </tr>\n  </tbody>\n</table>\n<p>36523 rows × 3 columns</p>\n</div>"
     },
     "execution_count": 43,
     "metadata": {},
     "output_type": "execute_result"
    }
   ],
   "source": [
    "# Tabla con el mes de la primera compra\n",
    "first_orders = first_buy_date[['Uid','first_buy_date']].reset_index(drop=True)\n",
    "first_orders['first_buy_month'] = first_orders['first_buy_date'].astype('datetime64[M]')\n",
    "first_orders"
   ]
  },
  {
   "cell_type": "code",
   "execution_count": 44,
   "metadata": {
    "ExecuteTime": {
     "end_time": "2023-07-18T01:06:20.106026200Z",
     "start_time": "2023-07-18T01:06:19.415027Z"
    }
   },
   "outputs": [
    {
     "data": {
      "text/plain": "                         Uid first_activity_date first_activity_month\n0             11863502262781 2018-03-01 17:27:00           2018-03-01\n1             49537067089222 2018-02-06 15:55:00           2018-02-01\n2            297729379853735 2017-06-07 18:47:00           2017-06-01\n3            313578113262317 2017-09-18 22:49:00           2017-09-01\n4            325320750514679 2017-09-30 14:29:00           2017-09-01\n...                      ...                 ...                  ...\n228164  18446403737806311543 2017-11-30 03:36:00           2017-11-01\n228165  18446424184725333426 2017-12-06 20:32:00           2017-12-01\n228166  18446556406699109058 2018-01-01 16:29:00           2018-01-01\n228167  18446621818809592527 2017-12-27 13:27:00           2017-12-01\n228168  18446676030785672386 2017-10-04 16:01:00           2017-10-01\n\n[228169 rows x 3 columns]",
      "text/html": "<div>\n<style scoped>\n    .dataframe tbody tr th:only-of-type {\n        vertical-align: middle;\n    }\n\n    .dataframe tbody tr th {\n        vertical-align: top;\n    }\n\n    .dataframe thead th {\n        text-align: right;\n    }\n</style>\n<table border=\"1\" class=\"dataframe\">\n  <thead>\n    <tr style=\"text-align: right;\">\n      <th></th>\n      <th>Uid</th>\n      <th>first_activity_date</th>\n      <th>first_activity_month</th>\n    </tr>\n  </thead>\n  <tbody>\n    <tr>\n      <th>0</th>\n      <td>11863502262781</td>\n      <td>2018-03-01 17:27:00</td>\n      <td>2018-03-01</td>\n    </tr>\n    <tr>\n      <th>1</th>\n      <td>49537067089222</td>\n      <td>2018-02-06 15:55:00</td>\n      <td>2018-02-01</td>\n    </tr>\n    <tr>\n      <th>2</th>\n      <td>297729379853735</td>\n      <td>2017-06-07 18:47:00</td>\n      <td>2017-06-01</td>\n    </tr>\n    <tr>\n      <th>3</th>\n      <td>313578113262317</td>\n      <td>2017-09-18 22:49:00</td>\n      <td>2017-09-01</td>\n    </tr>\n    <tr>\n      <th>4</th>\n      <td>325320750514679</td>\n      <td>2017-09-30 14:29:00</td>\n      <td>2017-09-01</td>\n    </tr>\n    <tr>\n      <th>...</th>\n      <td>...</td>\n      <td>...</td>\n      <td>...</td>\n    </tr>\n    <tr>\n      <th>228164</th>\n      <td>18446403737806311543</td>\n      <td>2017-11-30 03:36:00</td>\n      <td>2017-11-01</td>\n    </tr>\n    <tr>\n      <th>228165</th>\n      <td>18446424184725333426</td>\n      <td>2017-12-06 20:32:00</td>\n      <td>2017-12-01</td>\n    </tr>\n    <tr>\n      <th>228166</th>\n      <td>18446556406699109058</td>\n      <td>2018-01-01 16:29:00</td>\n      <td>2018-01-01</td>\n    </tr>\n    <tr>\n      <th>228167</th>\n      <td>18446621818809592527</td>\n      <td>2017-12-27 13:27:00</td>\n      <td>2017-12-01</td>\n    </tr>\n    <tr>\n      <th>228168</th>\n      <td>18446676030785672386</td>\n      <td>2017-10-04 16:01:00</td>\n      <td>2017-10-01</td>\n    </tr>\n  </tbody>\n</table>\n<p>228169 rows × 3 columns</p>\n</div>"
     },
     "execution_count": 44,
     "metadata": {},
     "output_type": "execute_result"
    }
   ],
   "source": [
    "# Tabla con el mes de la primera visita\n",
    "first_activity_date['first_activity_month'] = first_activity_date['first_activity_date'].astype('datetime64[M]')\n",
    "first_activity_date"
   ]
  },
  {
   "cell_type": "code",
   "execution_count": 45,
   "metadata": {
    "ExecuteTime": {
     "end_time": "2023-07-18T01:06:20.159024600Z",
     "start_time": "2023-07-18T01:06:19.483023300Z"
    }
   },
   "outputs": [
    {
     "data": {
      "text/plain": "                        Uid first_activity_date first_activity_month  \\\n0           313578113262317 2017-09-18 22:49:00           2017-09-01   \n1          1575281904278712 2017-06-03 10:13:00           2017-06-01   \n2          2429014661409475 2017-10-11 17:14:00           2017-10-01   \n3          2464366381792757 2018-01-27 20:10:00           2018-01-01   \n4          2551852515556206 2017-11-24 10:14:00           2017-11-01   \n...                     ...                 ...                  ...   \n36518  18445147675727495770 2017-08-20 13:30:00           2017-08-01   \n36519  18445407535914413204 2017-09-22 23:48:00           2017-09-01   \n36520  18445601152732270159 2017-08-07 11:51:00           2017-08-01   \n36521  18446156210226471712 2017-11-07 10:01:00           2017-11-01   \n36522  18446167067214817906 2017-10-17 10:05:00           2017-10-01   \n\n      first_buy_date first_buy_month  \n0         2018-01-03      2018-01-01  \n1         2017-06-03      2017-06-01  \n2         2017-10-11      2017-10-01  \n3         2018-01-28      2018-01-01  \n4         2017-11-24      2017-11-01  \n...              ...             ...  \n36518     2017-11-24      2017-11-01  \n36519     2017-09-22      2017-09-01  \n36520     2018-03-26      2018-03-01  \n36521     2018-02-18      2018-02-01  \n36522     2017-10-17      2017-10-01  \n\n[36523 rows x 5 columns]",
      "text/html": "<div>\n<style scoped>\n    .dataframe tbody tr th:only-of-type {\n        vertical-align: middle;\n    }\n\n    .dataframe tbody tr th {\n        vertical-align: top;\n    }\n\n    .dataframe thead th {\n        text-align: right;\n    }\n</style>\n<table border=\"1\" class=\"dataframe\">\n  <thead>\n    <tr style=\"text-align: right;\">\n      <th></th>\n      <th>Uid</th>\n      <th>first_activity_date</th>\n      <th>first_activity_month</th>\n      <th>first_buy_date</th>\n      <th>first_buy_month</th>\n    </tr>\n  </thead>\n  <tbody>\n    <tr>\n      <th>0</th>\n      <td>313578113262317</td>\n      <td>2017-09-18 22:49:00</td>\n      <td>2017-09-01</td>\n      <td>2018-01-03</td>\n      <td>2018-01-01</td>\n    </tr>\n    <tr>\n      <th>1</th>\n      <td>1575281904278712</td>\n      <td>2017-06-03 10:13:00</td>\n      <td>2017-06-01</td>\n      <td>2017-06-03</td>\n      <td>2017-06-01</td>\n    </tr>\n    <tr>\n      <th>2</th>\n      <td>2429014661409475</td>\n      <td>2017-10-11 17:14:00</td>\n      <td>2017-10-01</td>\n      <td>2017-10-11</td>\n      <td>2017-10-01</td>\n    </tr>\n    <tr>\n      <th>3</th>\n      <td>2464366381792757</td>\n      <td>2018-01-27 20:10:00</td>\n      <td>2018-01-01</td>\n      <td>2018-01-28</td>\n      <td>2018-01-01</td>\n    </tr>\n    <tr>\n      <th>4</th>\n      <td>2551852515556206</td>\n      <td>2017-11-24 10:14:00</td>\n      <td>2017-11-01</td>\n      <td>2017-11-24</td>\n      <td>2017-11-01</td>\n    </tr>\n    <tr>\n      <th>...</th>\n      <td>...</td>\n      <td>...</td>\n      <td>...</td>\n      <td>...</td>\n      <td>...</td>\n    </tr>\n    <tr>\n      <th>36518</th>\n      <td>18445147675727495770</td>\n      <td>2017-08-20 13:30:00</td>\n      <td>2017-08-01</td>\n      <td>2017-11-24</td>\n      <td>2017-11-01</td>\n    </tr>\n    <tr>\n      <th>36519</th>\n      <td>18445407535914413204</td>\n      <td>2017-09-22 23:48:00</td>\n      <td>2017-09-01</td>\n      <td>2017-09-22</td>\n      <td>2017-09-01</td>\n    </tr>\n    <tr>\n      <th>36520</th>\n      <td>18445601152732270159</td>\n      <td>2017-08-07 11:51:00</td>\n      <td>2017-08-01</td>\n      <td>2018-03-26</td>\n      <td>2018-03-01</td>\n    </tr>\n    <tr>\n      <th>36521</th>\n      <td>18446156210226471712</td>\n      <td>2017-11-07 10:01:00</td>\n      <td>2017-11-01</td>\n      <td>2018-02-18</td>\n      <td>2018-02-01</td>\n    </tr>\n    <tr>\n      <th>36522</th>\n      <td>18446167067214817906</td>\n      <td>2017-10-17 10:05:00</td>\n      <td>2017-10-01</td>\n      <td>2017-10-17</td>\n      <td>2017-10-01</td>\n    </tr>\n  </tbody>\n</table>\n<p>36523 rows × 5 columns</p>\n</div>"
     },
     "execution_count": 45,
     "metadata": {},
     "output_type": "execute_result"
    }
   ],
   "source": [
    "# Construir un dataframe \"buyers\" que integre la información de las primeras visitas y las primeras compras\n",
    "buyers = pd.merge(first_activity_date, first_orders, on='Uid')\n",
    "buyers"
   ]
  },
  {
   "cell_type": "code",
   "execution_count": 46,
   "metadata": {
    "ExecuteTime": {
     "end_time": "2023-07-18T01:06:20.160022200Z",
     "start_time": "2023-07-18T01:06:19.590025400Z"
    }
   },
   "outputs": [
    {
     "data": {
      "text/plain": "  first_buy_month order_month  Revenue  age_month\n0      2017-06-01  2017-06-01  9557.49        0.0\n1      2017-06-01  2017-07-01   981.82        1.0\n2      2017-06-01  2017-08-01   885.34        2.0\n3      2017-06-01  2017-09-01  1931.30        3.0\n4      2017-06-01  2017-10-01  2068.58        4.0",
      "text/html": "<div>\n<style scoped>\n    .dataframe tbody tr th:only-of-type {\n        vertical-align: middle;\n    }\n\n    .dataframe tbody tr th {\n        vertical-align: top;\n    }\n\n    .dataframe thead th {\n        text-align: right;\n    }\n</style>\n<table border=\"1\" class=\"dataframe\">\n  <thead>\n    <tr style=\"text-align: right;\">\n      <th></th>\n      <th>first_buy_month</th>\n      <th>order_month</th>\n      <th>Revenue</th>\n      <th>age_month</th>\n    </tr>\n  </thead>\n  <tbody>\n    <tr>\n      <th>0</th>\n      <td>2017-06-01</td>\n      <td>2017-06-01</td>\n      <td>9557.49</td>\n      <td>0.0</td>\n    </tr>\n    <tr>\n      <th>1</th>\n      <td>2017-06-01</td>\n      <td>2017-07-01</td>\n      <td>981.82</td>\n      <td>1.0</td>\n    </tr>\n    <tr>\n      <th>2</th>\n      <td>2017-06-01</td>\n      <td>2017-08-01</td>\n      <td>885.34</td>\n      <td>2.0</td>\n    </tr>\n    <tr>\n      <th>3</th>\n      <td>2017-06-01</td>\n      <td>2017-09-01</td>\n      <td>1931.30</td>\n      <td>3.0</td>\n    </tr>\n    <tr>\n      <th>4</th>\n      <td>2017-06-01</td>\n      <td>2017-10-01</td>\n      <td>2068.58</td>\n      <td>4.0</td>\n    </tr>\n  </tbody>\n</table>\n</div>"
     },
     "execution_count": 46,
     "metadata": {},
     "output_type": "execute_result"
    }
   ],
   "source": [
    "# Se construye las cohortes con los datos de buyers\n",
    "cohorts = pd.merge(data_orders, buyers,\n",
    "                   how='inner', on='Uid').groupby(['first_buy_month',\n",
    "                                                   'order_month']).agg({'Revenue': 'sum'}).reset_index()\n",
    "# Calculamos el tiempo transcurrido desde la primer orden\n",
    "cohorts['age_month'] = ((cohorts['order_month'] - cohorts['first_buy_month']) / np.timedelta64(1,'M')).round()\n",
    "\n",
    "# Seleccionamos solo las columnas que nos serviran para el calculo de ltv\n",
    "cohorts.columns = ['first_buy_month', 'order_month', 'Revenue', 'age_month']\n",
    "\n",
    "# Mostramos el dataframe\n",
    "cohorts.head()"
   ]
  },
  {
   "cell_type": "code",
   "execution_count": 47,
   "metadata": {
    "ExecuteTime": {
     "end_time": "2023-07-18T01:06:20.161024400Z",
     "start_time": "2023-07-18T01:06:19.652024600Z"
    }
   },
   "outputs": [
    {
     "data": {
      "text/plain": "  first_buy_month  n_buyers\n0      2017-06-01      2023\n1      2017-07-01      1923\n2      2017-08-01      1370\n3      2017-09-01      2581\n4      2017-10-01      4340",
      "text/html": "<div>\n<style scoped>\n    .dataframe tbody tr th:only-of-type {\n        vertical-align: middle;\n    }\n\n    .dataframe tbody tr th {\n        vertical-align: top;\n    }\n\n    .dataframe thead th {\n        text-align: right;\n    }\n</style>\n<table border=\"1\" class=\"dataframe\">\n  <thead>\n    <tr style=\"text-align: right;\">\n      <th></th>\n      <th>first_buy_month</th>\n      <th>n_buyers</th>\n    </tr>\n  </thead>\n  <tbody>\n    <tr>\n      <th>0</th>\n      <td>2017-06-01</td>\n      <td>2023</td>\n    </tr>\n    <tr>\n      <th>1</th>\n      <td>2017-07-01</td>\n      <td>1923</td>\n    </tr>\n    <tr>\n      <th>2</th>\n      <td>2017-08-01</td>\n      <td>1370</td>\n    </tr>\n    <tr>\n      <th>3</th>\n      <td>2017-09-01</td>\n      <td>2581</td>\n    </tr>\n    <tr>\n      <th>4</th>\n      <td>2017-10-01</td>\n      <td>4340</td>\n    </tr>\n  </tbody>\n</table>\n</div>"
     },
     "execution_count": 47,
     "metadata": {},
     "output_type": "execute_result"
    }
   ],
   "source": [
    "# Construimos el dataframe cohort_sizes con el número de compradores en cada cohorte\n",
    "cohort_sizes = buyers.groupby('first_buy_month').agg({'Uid': 'nunique'}).reset_index()\n",
    "cohort_sizes.rename(columns={'Uid': 'n_buyers'}, inplace=True)\n",
    "\n",
    "# Mostramos el dataframe\n",
    "cohort_sizes.head()"
   ]
  },
  {
   "cell_type": "code",
   "execution_count": 48,
   "metadata": {
    "ExecuteTime": {
     "end_time": "2023-07-18T01:06:20.162027900Z",
     "start_time": "2023-07-18T01:06:19.681027600Z"
    }
   },
   "outputs": [
    {
     "data": {
      "text/plain": "  first_buy_month  n_buyers order_month  Revenue  age_month       ltv\n0      2017-06-01      2023  2017-06-01  9557.49        0.0  4.724414\n1      2017-06-01      2023  2017-07-01   981.82        1.0  0.485329\n2      2017-06-01      2023  2017-08-01   885.34        2.0  0.437637\n3      2017-06-01      2023  2017-09-01  1931.30        3.0  0.954671\n4      2017-06-01      2023  2017-10-01  2068.58        4.0  1.022531",
      "text/html": "<div>\n<style scoped>\n    .dataframe tbody tr th:only-of-type {\n        vertical-align: middle;\n    }\n\n    .dataframe tbody tr th {\n        vertical-align: top;\n    }\n\n    .dataframe thead th {\n        text-align: right;\n    }\n</style>\n<table border=\"1\" class=\"dataframe\">\n  <thead>\n    <tr style=\"text-align: right;\">\n      <th></th>\n      <th>first_buy_month</th>\n      <th>n_buyers</th>\n      <th>order_month</th>\n      <th>Revenue</th>\n      <th>age_month</th>\n      <th>ltv</th>\n    </tr>\n  </thead>\n  <tbody>\n    <tr>\n      <th>0</th>\n      <td>2017-06-01</td>\n      <td>2023</td>\n      <td>2017-06-01</td>\n      <td>9557.49</td>\n      <td>0.0</td>\n      <td>4.724414</td>\n    </tr>\n    <tr>\n      <th>1</th>\n      <td>2017-06-01</td>\n      <td>2023</td>\n      <td>2017-07-01</td>\n      <td>981.82</td>\n      <td>1.0</td>\n      <td>0.485329</td>\n    </tr>\n    <tr>\n      <th>2</th>\n      <td>2017-06-01</td>\n      <td>2023</td>\n      <td>2017-08-01</td>\n      <td>885.34</td>\n      <td>2.0</td>\n      <td>0.437637</td>\n    </tr>\n    <tr>\n      <th>3</th>\n      <td>2017-06-01</td>\n      <td>2023</td>\n      <td>2017-09-01</td>\n      <td>1931.30</td>\n      <td>3.0</td>\n      <td>0.954671</td>\n    </tr>\n    <tr>\n      <th>4</th>\n      <td>2017-06-01</td>\n      <td>2023</td>\n      <td>2017-10-01</td>\n      <td>2068.58</td>\n      <td>4.0</td>\n      <td>1.022531</td>\n    </tr>\n  </tbody>\n</table>\n</div>"
     },
     "execution_count": 48,
     "metadata": {},
     "output_type": "execute_result"
    }
   ],
   "source": [
    "# Vinculamos ambos dataframes en un solo para hacer el reporte\n",
    "cohorts_report = pd.merge(cohort_sizes, cohorts, on='first_buy_month')\n",
    "\n",
    "# Creamos la columna LTV\n",
    "cohorts_report['ltv'] = cohorts_report['Revenue'] / cohorts_report['n_buyers']\n",
    "\n",
    "# Mostramos el dataframe resultante\n",
    "cohorts_report.head()"
   ]
  },
  {
   "cell_type": "code",
   "execution_count": 49,
   "metadata": {
    "ExecuteTime": {
     "end_time": "2023-07-18T01:06:20.192023200Z",
     "start_time": "2023-07-18T01:06:19.713024Z"
    }
   },
   "outputs": [
    {
     "data": {
      "text/plain": "age_month        0.0   1.0   2.0    3.0    4.0    5.0    6.0    7.0    8.0   \\\nfirst_buy_month                                                               \n2017-06-01       4.72  5.21  5.65    6.6   7.62   8.36   9.31   9.89  10.45   \n2017-07-01       6.01  6.35  6.97   7.33    7.5   7.66   7.78   7.92   8.08   \n2017-08-01       5.28  5.75  6.21    6.6   7.09   7.38   7.59   7.99   8.28   \n2017-09-01       5.64  6.76  7.28  11.26  11.66  12.31  13.01  13.25  13.44   \n2017-10-01       5.00  5.54  5.73   5.89   6.04   6.16   6.24   6.36          \n2017-11-01       5.15  5.55  5.75   6.08   6.23   6.28    6.4                 \n2017-12-01       4.74   5.0  5.92   6.99    7.3   7.64                        \n2018-01-01       4.14  4.43  4.73   4.88   4.94                               \n2018-02-01       4.16  4.44  4.51   4.59                                      \n2018-03-01       4.84  5.14  5.46                                             \n2018-04-01       4.66  5.19                                                   \n2018-05-01       4.66                                                         \n2018-06-01       3.42                                                         \n\nage_month         9.0    10.0   11.0  \nfirst_buy_month                       \n2017-06-01       11.05  11.62  11.88  \n2017-07-01        8.23   8.39         \n2017-08-01        8.47                \n2017-09-01                            \n2017-10-01                            \n2017-11-01                            \n2017-12-01                            \n2018-01-01                            \n2018-02-01                            \n2018-03-01                            \n2018-04-01                            \n2018-05-01                            \n2018-06-01                            ",
      "text/html": "<div>\n<style scoped>\n    .dataframe tbody tr th:only-of-type {\n        vertical-align: middle;\n    }\n\n    .dataframe tbody tr th {\n        vertical-align: top;\n    }\n\n    .dataframe thead th {\n        text-align: right;\n    }\n</style>\n<table border=\"1\" class=\"dataframe\">\n  <thead>\n    <tr style=\"text-align: right;\">\n      <th>age_month</th>\n      <th>0.0</th>\n      <th>1.0</th>\n      <th>2.0</th>\n      <th>3.0</th>\n      <th>4.0</th>\n      <th>5.0</th>\n      <th>6.0</th>\n      <th>7.0</th>\n      <th>8.0</th>\n      <th>9.0</th>\n      <th>10.0</th>\n      <th>11.0</th>\n    </tr>\n    <tr>\n      <th>first_buy_month</th>\n      <th></th>\n      <th></th>\n      <th></th>\n      <th></th>\n      <th></th>\n      <th></th>\n      <th></th>\n      <th></th>\n      <th></th>\n      <th></th>\n      <th></th>\n      <th></th>\n    </tr>\n  </thead>\n  <tbody>\n    <tr>\n      <th>2017-06-01</th>\n      <td>4.72</td>\n      <td>5.21</td>\n      <td>5.65</td>\n      <td>6.6</td>\n      <td>7.62</td>\n      <td>8.36</td>\n      <td>9.31</td>\n      <td>9.89</td>\n      <td>10.45</td>\n      <td>11.05</td>\n      <td>11.62</td>\n      <td>11.88</td>\n    </tr>\n    <tr>\n      <th>2017-07-01</th>\n      <td>6.01</td>\n      <td>6.35</td>\n      <td>6.97</td>\n      <td>7.33</td>\n      <td>7.5</td>\n      <td>7.66</td>\n      <td>7.78</td>\n      <td>7.92</td>\n      <td>8.08</td>\n      <td>8.23</td>\n      <td>8.39</td>\n      <td></td>\n    </tr>\n    <tr>\n      <th>2017-08-01</th>\n      <td>5.28</td>\n      <td>5.75</td>\n      <td>6.21</td>\n      <td>6.6</td>\n      <td>7.09</td>\n      <td>7.38</td>\n      <td>7.59</td>\n      <td>7.99</td>\n      <td>8.28</td>\n      <td>8.47</td>\n      <td></td>\n      <td></td>\n    </tr>\n    <tr>\n      <th>2017-09-01</th>\n      <td>5.64</td>\n      <td>6.76</td>\n      <td>7.28</td>\n      <td>11.26</td>\n      <td>11.66</td>\n      <td>12.31</td>\n      <td>13.01</td>\n      <td>13.25</td>\n      <td>13.44</td>\n      <td></td>\n      <td></td>\n      <td></td>\n    </tr>\n    <tr>\n      <th>2017-10-01</th>\n      <td>5.00</td>\n      <td>5.54</td>\n      <td>5.73</td>\n      <td>5.89</td>\n      <td>6.04</td>\n      <td>6.16</td>\n      <td>6.24</td>\n      <td>6.36</td>\n      <td></td>\n      <td></td>\n      <td></td>\n      <td></td>\n    </tr>\n    <tr>\n      <th>2017-11-01</th>\n      <td>5.15</td>\n      <td>5.55</td>\n      <td>5.75</td>\n      <td>6.08</td>\n      <td>6.23</td>\n      <td>6.28</td>\n      <td>6.4</td>\n      <td></td>\n      <td></td>\n      <td></td>\n      <td></td>\n      <td></td>\n    </tr>\n    <tr>\n      <th>2017-12-01</th>\n      <td>4.74</td>\n      <td>5.0</td>\n      <td>5.92</td>\n      <td>6.99</td>\n      <td>7.3</td>\n      <td>7.64</td>\n      <td></td>\n      <td></td>\n      <td></td>\n      <td></td>\n      <td></td>\n      <td></td>\n    </tr>\n    <tr>\n      <th>2018-01-01</th>\n      <td>4.14</td>\n      <td>4.43</td>\n      <td>4.73</td>\n      <td>4.88</td>\n      <td>4.94</td>\n      <td></td>\n      <td></td>\n      <td></td>\n      <td></td>\n      <td></td>\n      <td></td>\n      <td></td>\n    </tr>\n    <tr>\n      <th>2018-02-01</th>\n      <td>4.16</td>\n      <td>4.44</td>\n      <td>4.51</td>\n      <td>4.59</td>\n      <td></td>\n      <td></td>\n      <td></td>\n      <td></td>\n      <td></td>\n      <td></td>\n      <td></td>\n      <td></td>\n    </tr>\n    <tr>\n      <th>2018-03-01</th>\n      <td>4.84</td>\n      <td>5.14</td>\n      <td>5.46</td>\n      <td></td>\n      <td></td>\n      <td></td>\n      <td></td>\n      <td></td>\n      <td></td>\n      <td></td>\n      <td></td>\n      <td></td>\n    </tr>\n    <tr>\n      <th>2018-04-01</th>\n      <td>4.66</td>\n      <td>5.19</td>\n      <td></td>\n      <td></td>\n      <td></td>\n      <td></td>\n      <td></td>\n      <td></td>\n      <td></td>\n      <td></td>\n      <td></td>\n      <td></td>\n    </tr>\n    <tr>\n      <th>2018-05-01</th>\n      <td>4.66</td>\n      <td></td>\n      <td></td>\n      <td></td>\n      <td></td>\n      <td></td>\n      <td></td>\n      <td></td>\n      <td></td>\n      <td></td>\n      <td></td>\n      <td></td>\n    </tr>\n    <tr>\n      <th>2018-06-01</th>\n      <td>3.42</td>\n      <td></td>\n      <td></td>\n      <td></td>\n      <td></td>\n      <td></td>\n      <td></td>\n      <td></td>\n      <td></td>\n      <td></td>\n      <td></td>\n      <td></td>\n    </tr>\n  </tbody>\n</table>\n</div>"
     },
     "execution_count": 49,
     "metadata": {},
     "output_type": "execute_result"
    }
   ],
   "source": [
    "# Calculo de ltv\n",
    "cohorts_ltv = cohorts_report.pivot_table(\n",
    "    index='first_buy_month',\n",
    "    columns='age_month',\n",
    "    values='ltv',\n",
    "    aggfunc='sum'\n",
    ").cumsum(axis=1)\n",
    "\n",
    "cohorts_ltv.round(2).fillna('')"
   ]
  },
  {
   "cell_type": "code",
   "execution_count": 50,
   "metadata": {
    "ExecuteTime": {
     "end_time": "2023-07-18T01:06:21.201021100Z",
     "start_time": "2023-07-18T01:06:19.778043700Z"
    }
   },
   "outputs": [
    {
     "data": {
      "text/plain": "<Figure size 936x648 with 2 Axes>",
      "image/png": "[encoded data removed]"
     },
     "metadata": {},
     "output_type": "display_data"
    }
   ],
   "source": [
    "# Graficamos el LTV\n",
    "plt.figure(figsize=(13, 9))\n",
    "sns.heatmap(cohorts_ltv, annot=True, fmt='.2f', linewidths=1, linecolor='grey', cbar_kws={'orientation': 'horizontal'}\n",
    "           ).set(title='LTV', yticklabels=cohorts_ltv.index.astype('str'))\n",
    "plt.show()"
   ]
  },
  {
   "cell_type": "code",
   "execution_count": 51,
   "metadata": {
    "ExecuteTime": {
     "end_time": "2023-07-18T01:06:21.260026600Z",
     "start_time": "2023-07-18T01:06:20.751024900Z"
    }
   },
   "outputs": [
    {
     "name": "stdout",
     "output_type": "stream",
     "text": [
      "En promedio, cada cliente genero $ 6.92 durante su ciclo de vida\n"
     ]
    }
   ],
   "source": [
    "print('En promedio, cada cliente genero $', round(int(cohorts_report['ltv'].sum()) / cohorts_report['first_buy_month'].nunique(), 2), 'durante su ciclo de vida')"
   ]
  },
  {
   "cell_type": "markdown",
   "metadata": {},
   "source": [
    "##### Conclusiones ventas\n",
    "\n",
    "- ¿Cuándo la gente empieza a comprar?\n",
    "- ¿Cuántos pedidos hacen durante un período de tiempo dado?\n",
    "- ¿Cuál es el tamaño promedio de compra?\n",
    "- ¿Cuánto dinero traen? (LTV)\n",
    "\n",
    "Una vez realizado el análisis tenemos que:\n",
    "- Las personas realizan su primer pedido en promedio el mismo dia que entran por primera vez a la web\n",
    "- Tenemos una media de pedidos por usuario de 1 pedido, tambien se encontro que el tamaño promedio de la compra es de $\\$5$\n",
    "- En promedio, cada cliente genera $\\$6.92$ durante su ciclo de vida"
   ]
  },
  {
   "cell_type": "markdown",
   "metadata": {},
   "source": [
    "#### Marketing    \n",
    "\n",
    "Para nuestro tercer informe, responderemos las siguientes preguntas del apartado de producto\n",
    "- ¿Cuánto dinero se gastó? (Total/por fuente/a lo largo del tiempo)\n",
    "- ¿Cuánto costó la adquisición de clientes de cada una de las fuentes?\n",
    "- ¿Cuán rentables eran las inversiones? (ROI)"
   ]
  },
  {
   "cell_type": "code",
   "execution_count": 52,
   "metadata": {
    "ExecuteTime": {
     "end_time": "2023-07-18T01:06:21.271027400Z",
     "start_time": "2023-07-18T01:06:20.766028800Z"
    }
   },
   "outputs": [
    {
     "data": {
      "text/plain": "   source_id         dt  costs\n0          1 2017-06-01  75.20\n1          1 2017-06-02  62.25\n2          1 2017-06-03  36.53\n3          1 2017-06-04  55.00\n4          1 2017-06-05  57.08",
      "text/html": "<div>\n<style scoped>\n    .dataframe tbody tr th:only-of-type {\n        vertical-align: middle;\n    }\n\n    .dataframe tbody tr th {\n        vertical-align: top;\n    }\n\n    .dataframe thead th {\n        text-align: right;\n    }\n</style>\n<table border=\"1\" class=\"dataframe\">\n  <thead>\n    <tr style=\"text-align: right;\">\n      <th></th>\n      <th>source_id</th>\n      <th>dt</th>\n      <th>costs</th>\n    </tr>\n  </thead>\n  <tbody>\n    <tr>\n      <th>0</th>\n      <td>1</td>\n      <td>2017-06-01</td>\n      <td>75.20</td>\n    </tr>\n    <tr>\n      <th>1</th>\n      <td>1</td>\n      <td>2017-06-02</td>\n      <td>62.25</td>\n    </tr>\n    <tr>\n      <th>2</th>\n      <td>1</td>\n      <td>2017-06-03</td>\n      <td>36.53</td>\n    </tr>\n    <tr>\n      <th>3</th>\n      <td>1</td>\n      <td>2017-06-04</td>\n      <td>55.00</td>\n    </tr>\n    <tr>\n      <th>4</th>\n      <td>1</td>\n      <td>2017-06-05</td>\n      <td>57.08</td>\n    </tr>\n  </tbody>\n</table>\n</div>"
     },
     "execution_count": 52,
     "metadata": {},
     "output_type": "execute_result"
    }
   ],
   "source": [
    "# Veamos una muestra de nuestros datos\n",
    "data_costs.head()"
   ]
  },
  {
   "cell_type": "markdown",
   "metadata": {},
   "source": [
    "##### ¿Cuánto dinero se gastó? (Total/por fuente/a lo largo del tiempo)"
   ]
  },
  {
   "cell_type": "code",
   "execution_count": 53,
   "metadata": {
    "ExecuteTime": {
     "end_time": "2023-07-18T01:06:21.367025500Z",
     "start_time": "2023-07-18T01:06:20.798023300Z"
    }
   },
   "outputs": [
    {
     "data": {
      "text/plain": "cost_month  2017-06-01  2017-07-01  2017-08-01  2017-09-01  2017-10-01  \\\nsource_id                                                                \n1              1125.61     1072.88      951.81     1502.01     2315.75   \n2              2427.38     2333.11     1811.05     2985.66     4845.00   \n3              7731.65     7674.37     6143.54     9963.55    15737.24   \n4              3514.80     3529.73     3217.36     5192.26     6420.84   \n5              2616.12     2998.14     2185.28     3849.14     5767.40   \n9               285.22      302.54      248.93      415.62      609.41   \n10              314.22      329.82      232.57      460.67      627.24   \n\ncost_month  2017-11-01  2017-12-01  2018-01-01  2018-02-01  2018-03-01  \\\nsource_id                                                                \n1              2445.16     2341.20     2186.18     2204.48     1893.09   \n2              5247.68     4897.80     4157.74     4474.34     3943.14   \n3             17025.34    16219.52    14808.78    14228.56    13080.85   \n4              5388.82     7680.47     5832.79     5711.96     5961.87   \n5              6325.34     5872.52     5371.52     5071.31     4529.62   \n9               683.18      657.98      547.16      551.50      480.29   \n10              792.36      645.86      614.35      480.88      526.41   \n\ncost_month  2018-04-01  2018-05-01  \nsource_id                           \n1              1327.49     1467.61  \n2              2993.70     2689.44  \n3              9296.81     9411.42  \n4              4408.49     4214.21  \n5              3501.15     3669.56  \n9               373.49      362.17  \n10              388.25      409.86  ",
      "text/html": "<div>\n<style scoped>\n    .dataframe tbody tr th:only-of-type {\n        vertical-align: middle;\n    }\n\n    .dataframe tbody tr th {\n        vertical-align: top;\n    }\n\n    .dataframe thead th {\n        text-align: right;\n    }\n</style>\n<table border=\"1\" class=\"dataframe\">\n  <thead>\n    <tr style=\"text-align: right;\">\n      <th>cost_month</th>\n      <th>2017-06-01</th>\n      <th>2017-07-01</th>\n      <th>2017-08-01</th>\n      <th>2017-09-01</th>\n      <th>2017-10-01</th>\n      <th>2017-11-01</th>\n      <th>2017-12-01</th>\n      <th>2018-01-01</th>\n      <th>2018-02-01</th>\n      <th>2018-03-01</th>\n      <th>2018-04-01</th>\n      <th>2018-05-01</th>\n    </tr>\n    <tr>\n      <th>source_id</th>\n      <th></th>\n      <th></th>\n      <th></th>\n      <th></th>\n      <th></th>\n      <th></th>\n      <th></th>\n      <th></th>\n      <th></th>\n      <th></th>\n      <th></th>\n      <th></th>\n    </tr>\n  </thead>\n  <tbody>\n    <tr>\n      <th>1</th>\n      <td>1125.61</td>\n      <td>1072.88</td>\n      <td>951.81</td>\n      <td>1502.01</td>\n      <td>2315.75</td>\n      <td>2445.16</td>\n      <td>2341.20</td>\n      <td>2186.18</td>\n      <td>2204.48</td>\n      <td>1893.09</td>\n      <td>1327.49</td>\n      <td>1467.61</td>\n    </tr>\n    <tr>\n      <th>2</th>\n      <td>2427.38</td>\n      <td>2333.11</td>\n      <td>1811.05</td>\n      <td>2985.66</td>\n      <td>4845.00</td>\n      <td>5247.68</td>\n      <td>4897.80</td>\n      <td>4157.74</td>\n      <td>4474.34</td>\n      <td>3943.14</td>\n      <td>2993.70</td>\n      <td>2689.44</td>\n    </tr>\n    <tr>\n      <th>3</th>\n      <td>7731.65</td>\n      <td>7674.37</td>\n      <td>6143.54</td>\n      <td>9963.55</td>\n      <td>15737.24</td>\n      <td>17025.34</td>\n      <td>16219.52</td>\n      <td>14808.78</td>\n      <td>14228.56</td>\n      <td>13080.85</td>\n      <td>9296.81</td>\n      <td>9411.42</td>\n    </tr>\n    <tr>\n      <th>4</th>\n      <td>3514.80</td>\n      <td>3529.73</td>\n      <td>3217.36</td>\n      <td>5192.26</td>\n      <td>6420.84</td>\n      <td>5388.82</td>\n      <td>7680.47</td>\n      <td>5832.79</td>\n      <td>5711.96</td>\n      <td>5961.87</td>\n      <td>4408.49</td>\n      <td>4214.21</td>\n    </tr>\n    <tr>\n      <th>5</th>\n      <td>2616.12</td>\n      <td>2998.14</td>\n      <td>2185.28</td>\n      <td>3849.14</td>\n      <td>5767.40</td>\n      <td>6325.34</td>\n      <td>5872.52</td>\n      <td>5371.52</td>\n      <td>5071.31</td>\n      <td>4529.62</td>\n      <td>3501.15</td>\n      <td>3669.56</td>\n    </tr>\n    <tr>\n      <th>9</th>\n      <td>285.22</td>\n      <td>302.54</td>\n      <td>248.93</td>\n      <td>415.62</td>\n      <td>609.41</td>\n      <td>683.18</td>\n      <td>657.98</td>\n      <td>547.16</td>\n      <td>551.50</td>\n      <td>480.29</td>\n      <td>373.49</td>\n      <td>362.17</td>\n    </tr>\n    <tr>\n      <th>10</th>\n      <td>314.22</td>\n      <td>329.82</td>\n      <td>232.57</td>\n      <td>460.67</td>\n      <td>627.24</td>\n      <td>792.36</td>\n      <td>645.86</td>\n      <td>614.35</td>\n      <td>480.88</td>\n      <td>526.41</td>\n      <td>388.25</td>\n      <td>409.86</td>\n    </tr>\n  </tbody>\n</table>\n</div>"
     },
     "execution_count": 53,
     "metadata": {},
     "output_type": "execute_result"
    }
   ],
   "source": [
    "# Agregamos el mes que se realizo el gasto\n",
    "data_costs['cost_month'] = data_costs['dt'].astype('datetime64[M]')\n",
    "\n",
    "# Creamos la tabla para ver el despliegue por mes\n",
    "data_costs.pivot_table(\n",
    "    index='source_id',\n",
    "    columns='cost_month',\n",
    "    values='costs',\n",
    "    aggfunc='sum',\n",
    ")"
   ]
  },
  {
   "cell_type": "code",
   "execution_count": 54,
   "metadata": {
    "scrolled": true,
    "ExecuteTime": {
     "end_time": "2023-07-18T01:06:21.981024400Z",
     "start_time": "2023-07-18T01:06:20.845029400Z"
    }
   },
   "outputs": [
    {
     "data": {
      "text/plain": "<Figure size 720x360 with 1 Axes>",
      "image/png": "[encoded data removed]"
     },
     "metadata": {},
     "output_type": "display_data"
    }
   ],
   "source": [
    "source_costs = data_costs.groupby(['source_id', 'cost_month'])['costs'].sum().reset_index()\n",
    "sns.set_theme(style=\"darkgrid\")\n",
    "sns.set(rc={\"figure.figsize\":(10, 5)})\n",
    "ax = sns.lineplot(x=\"cost_month\", y=\"costs\",\n",
    "             hue=\"source_id\",\n",
    "             data=source_costs, palette='tab10').set(title='Dinero gastado cada mes por tipo de fuente de anuncios',\n",
    "                                xlabel='Meses', ylabel='Costos en $')"
   ]
  },
  {
   "cell_type": "markdown",
   "metadata": {},
   "source": [
    "##### ¿Cuánto costó la adquisición de clientes de cada una de las fuentes?"
   ]
  },
  {
   "cell_type": "code",
   "execution_count": 55,
   "metadata": {
    "ExecuteTime": {
     "end_time": "2023-07-18T01:06:38.413035Z",
     "start_time": "2023-07-18T01:06:21.446028900Z"
    }
   },
   "outputs": [
    {
     "data": {
      "text/plain": "                       Device              End Ts  Source Id  \\\nUid                                                            \n11863502262781          touch 2018-03-01 17:33:00          3   \n49537067089222          touch 2018-02-06 15:57:00          2   \n297729379853735       desktop 2017-06-07 18:48:00          3   \n313578113262317       desktop 2017-09-18 23:07:00          2   \n325320750514679       desktop 2017-09-30 14:38:00          5   \n...                       ...                 ...        ...   \n18446403737806311543  desktop 2017-11-30 03:39:00          5   \n18446424184725333426    touch 2017-12-06 20:32:00          4   \n18446556406699109058    touch 2018-01-01 16:31:00          3   \n18446621818809592527  desktop 2017-12-27 14:08:00          4   \n18446676030785672386  desktop 2017-10-04 16:27:00          3   \n\n                                Start Ts  session_year session_month  \\\nUid                                                                    \n11863502262781       2018-03-01 17:27:00          2018    2018-03-01   \n49537067089222       2018-02-06 15:55:00          2018    2018-02-01   \n297729379853735      2017-06-07 18:47:00          2017    2017-06-01   \n313578113262317      2017-09-18 22:49:00          2017    2017-09-01   \n325320750514679      2017-09-30 14:29:00          2017    2017-09-01   \n...                                  ...           ...           ...   \n18446403737806311543 2017-11-30 03:36:00          2017    2017-11-01   \n18446424184725333426 2017-12-06 20:32:00          2017    2017-12-01   \n18446556406699109058 2018-01-01 16:29:00          2018    2018-01-01   \n18446621818809592527 2017-12-27 13:27:00          2017    2017-12-01   \n18446676030785672386 2017-10-04 16:01:00          2017    2017-10-01   \n\n                     session_week session_date  session_duration_sec  \nUid                                                                   \n11863502262781         2018-03-01   2018-03-01                   360  \n49537067089222         2018-02-01   2018-02-06                   120  \n297729379853735        2017-06-01   2017-06-07                    60  \n313578113262317        2017-09-14   2017-09-18                  1080  \n325320750514679        2017-09-28   2017-09-30                   540  \n...                           ...          ...                   ...  \n18446403737806311543   2017-11-30   2017-11-30                   180  \n18446424184725333426   2017-11-30   2017-12-06                     0  \n18446556406699109058   2017-12-28   2018-01-01                   120  \n18446621818809592527   2017-12-21   2017-12-27                  2460  \n18446676030785672386   2017-09-28   2017-10-04                  1560  \n\n[228169 rows x 9 columns]",
      "text/html": "<div>\n<style scoped>\n    .dataframe tbody tr th:only-of-type {\n        vertical-align: middle;\n    }\n\n    .dataframe tbody tr th {\n        vertical-align: top;\n    }\n\n    .dataframe thead th {\n        text-align: right;\n    }\n</style>\n<table border=\"1\" class=\"dataframe\">\n  <thead>\n    <tr style=\"text-align: right;\">\n      <th></th>\n      <th>Device</th>\n      <th>End Ts</th>\n      <th>Source Id</th>\n      <th>Start Ts</th>\n      <th>session_year</th>\n      <th>session_month</th>\n      <th>session_week</th>\n      <th>session_date</th>\n      <th>session_duration_sec</th>\n    </tr>\n    <tr>\n      <th>Uid</th>\n      <th></th>\n      <th></th>\n      <th></th>\n      <th></th>\n      <th></th>\n      <th></th>\n      <th></th>\n      <th></th>\n      <th></th>\n    </tr>\n  </thead>\n  <tbody>\n    <tr>\n      <th>11863502262781</th>\n      <td>touch</td>\n      <td>2018-03-01 17:33:00</td>\n      <td>3</td>\n      <td>2018-03-01 17:27:00</td>\n      <td>2018</td>\n      <td>2018-03-01</td>\n      <td>2018-03-01</td>\n      <td>2018-03-01</td>\n      <td>360</td>\n    </tr>\n    <tr>\n      <th>49537067089222</th>\n      <td>touch</td>\n      <td>2018-02-06 15:57:00</td>\n      <td>2</td>\n      <td>2018-02-06 15:55:00</td>\n      <td>2018</td>\n      <td>2018-02-01</td>\n      <td>2018-02-01</td>\n      <td>2018-02-06</td>\n      <td>120</td>\n    </tr>\n    <tr>\n      <th>297729379853735</th>\n      <td>desktop</td>\n      <td>2017-06-07 18:48:00</td>\n      <td>3</td>\n      <td>2017-06-07 18:47:00</td>\n      <td>2017</td>\n      <td>2017-06-01</td>\n      <td>2017-06-01</td>\n      <td>2017-06-07</td>\n      <td>60</td>\n    </tr>\n    <tr>\n      <th>313578113262317</th>\n      <td>desktop</td>\n      <td>2017-09-18 23:07:00</td>\n      <td>2</td>\n      <td>2017-09-18 22:49:00</td>\n      <td>2017</td>\n      <td>2017-09-01</td>\n      <td>2017-09-14</td>\n      <td>2017-09-18</td>\n      <td>1080</td>\n    </tr>\n    <tr>\n      <th>325320750514679</th>\n      <td>desktop</td>\n      <td>2017-09-30 14:38:00</td>\n      <td>5</td>\n      <td>2017-09-30 14:29:00</td>\n      <td>2017</td>\n      <td>2017-09-01</td>\n      <td>2017-09-28</td>\n      <td>2017-09-30</td>\n      <td>540</td>\n    </tr>\n    <tr>\n      <th>...</th>\n      <td>...</td>\n      <td>...</td>\n      <td>...</td>\n      <td>...</td>\n      <td>...</td>\n      <td>...</td>\n      <td>...</td>\n      <td>...</td>\n      <td>...</td>\n    </tr>\n    <tr>\n      <th>18446403737806311543</th>\n      <td>desktop</td>\n      <td>2017-11-30 03:39:00</td>\n      <td>5</td>\n      <td>2017-11-30 03:36:00</td>\n      <td>2017</td>\n      <td>2017-11-01</td>\n      <td>2017-11-30</td>\n      <td>2017-11-30</td>\n      <td>180</td>\n    </tr>\n    <tr>\n      <th>18446424184725333426</th>\n      <td>touch</td>\n      <td>2017-12-06 20:32:00</td>\n      <td>4</td>\n      <td>2017-12-06 20:32:00</td>\n      <td>2017</td>\n      <td>2017-12-01</td>\n      <td>2017-11-30</td>\n      <td>2017-12-06</td>\n      <td>0</td>\n    </tr>\n    <tr>\n      <th>18446556406699109058</th>\n      <td>touch</td>\n      <td>2018-01-01 16:31:00</td>\n      <td>3</td>\n      <td>2018-01-01 16:29:00</td>\n      <td>2018</td>\n      <td>2018-01-01</td>\n      <td>2017-12-28</td>\n      <td>2018-01-01</td>\n      <td>120</td>\n    </tr>\n    <tr>\n      <th>18446621818809592527</th>\n      <td>desktop</td>\n      <td>2017-12-27 14:08:00</td>\n      <td>4</td>\n      <td>2017-12-27 13:27:00</td>\n      <td>2017</td>\n      <td>2017-12-01</td>\n      <td>2017-12-21</td>\n      <td>2017-12-27</td>\n      <td>2460</td>\n    </tr>\n    <tr>\n      <th>18446676030785672386</th>\n      <td>desktop</td>\n      <td>2017-10-04 16:27:00</td>\n      <td>3</td>\n      <td>2017-10-04 16:01:00</td>\n      <td>2017</td>\n      <td>2017-10-01</td>\n      <td>2017-09-28</td>\n      <td>2017-10-04</td>\n      <td>1560</td>\n    </tr>\n  </tbody>\n</table>\n<p>228169 rows × 9 columns</p>\n</div>"
     },
     "execution_count": 55,
     "metadata": {},
     "output_type": "execute_result"
    }
   ],
   "source": [
    "# Generamos el dataframe de los usuarios\n",
    "users = data_visits.sort_values('Start Ts').groupby('Uid').first()\n",
    "users"
   ]
  },
  {
   "cell_type": "code",
   "execution_count": 56,
   "metadata": {
    "ExecuteTime": {
     "end_time": "2023-07-18T01:06:38.468072300Z",
     "start_time": "2023-07-18T01:06:38.393025900Z"
    }
   },
   "outputs": [
    {
     "data": {
      "text/plain": "                        Uid first_activity_date first_activity_month  \\\n0           313578113262317 2017-09-18 22:49:00           2017-09-01   \n1          1575281904278712 2017-06-03 10:13:00           2017-06-01   \n2          2429014661409475 2017-10-11 17:14:00           2017-10-01   \n3          2464366381792757 2018-01-27 20:10:00           2018-01-01   \n4          2551852515556206 2017-11-24 10:14:00           2017-11-01   \n...                     ...                 ...                  ...   \n36518  18445147675727495770 2017-08-20 13:30:00           2017-08-01   \n36519  18445407535914413204 2017-09-22 23:48:00           2017-09-01   \n36520  18445601152732270159 2017-08-07 11:51:00           2017-08-01   \n36521  18446156210226471712 2017-11-07 10:01:00           2017-11-01   \n36522  18446167067214817906 2017-10-17 10:05:00           2017-10-01   \n\n      first_buy_date first_buy_month  \n0         2018-01-03      2018-01-01  \n1         2017-06-03      2017-06-01  \n2         2017-10-11      2017-10-01  \n3         2018-01-28      2018-01-01  \n4         2017-11-24      2017-11-01  \n...              ...             ...  \n36518     2017-11-24      2017-11-01  \n36519     2017-09-22      2017-09-01  \n36520     2018-03-26      2018-03-01  \n36521     2018-02-18      2018-02-01  \n36522     2017-10-17      2017-10-01  \n\n[36523 rows x 5 columns]",
      "text/html": "<div>\n<style scoped>\n    .dataframe tbody tr th:only-of-type {\n        vertical-align: middle;\n    }\n\n    .dataframe tbody tr th {\n        vertical-align: top;\n    }\n\n    .dataframe thead th {\n        text-align: right;\n    }\n</style>\n<table border=\"1\" class=\"dataframe\">\n  <thead>\n    <tr style=\"text-align: right;\">\n      <th></th>\n      <th>Uid</th>\n      <th>first_activity_date</th>\n      <th>first_activity_month</th>\n      <th>first_buy_date</th>\n      <th>first_buy_month</th>\n    </tr>\n  </thead>\n  <tbody>\n    <tr>\n      <th>0</th>\n      <td>313578113262317</td>\n      <td>2017-09-18 22:49:00</td>\n      <td>2017-09-01</td>\n      <td>2018-01-03</td>\n      <td>2018-01-01</td>\n    </tr>\n    <tr>\n      <th>1</th>\n      <td>1575281904278712</td>\n      <td>2017-06-03 10:13:00</td>\n      <td>2017-06-01</td>\n      <td>2017-06-03</td>\n      <td>2017-06-01</td>\n    </tr>\n    <tr>\n      <th>2</th>\n      <td>2429014661409475</td>\n      <td>2017-10-11 17:14:00</td>\n      <td>2017-10-01</td>\n      <td>2017-10-11</td>\n      <td>2017-10-01</td>\n    </tr>\n    <tr>\n      <th>3</th>\n      <td>2464366381792757</td>\n      <td>2018-01-27 20:10:00</td>\n      <td>2018-01-01</td>\n      <td>2018-01-28</td>\n      <td>2018-01-01</td>\n    </tr>\n    <tr>\n      <th>4</th>\n      <td>2551852515556206</td>\n      <td>2017-11-24 10:14:00</td>\n      <td>2017-11-01</td>\n      <td>2017-11-24</td>\n      <td>2017-11-01</td>\n    </tr>\n    <tr>\n      <th>...</th>\n      <td>...</td>\n      <td>...</td>\n      <td>...</td>\n      <td>...</td>\n      <td>...</td>\n    </tr>\n    <tr>\n      <th>36518</th>\n      <td>18445147675727495770</td>\n      <td>2017-08-20 13:30:00</td>\n      <td>2017-08-01</td>\n      <td>2017-11-24</td>\n      <td>2017-11-01</td>\n    </tr>\n    <tr>\n      <th>36519</th>\n      <td>18445407535914413204</td>\n      <td>2017-09-22 23:48:00</td>\n      <td>2017-09-01</td>\n      <td>2017-09-22</td>\n      <td>2017-09-01</td>\n    </tr>\n    <tr>\n      <th>36520</th>\n      <td>18445601152732270159</td>\n      <td>2017-08-07 11:51:00</td>\n      <td>2017-08-01</td>\n      <td>2018-03-26</td>\n      <td>2018-03-01</td>\n    </tr>\n    <tr>\n      <th>36521</th>\n      <td>18446156210226471712</td>\n      <td>2017-11-07 10:01:00</td>\n      <td>2017-11-01</td>\n      <td>2018-02-18</td>\n      <td>2018-02-01</td>\n    </tr>\n    <tr>\n      <th>36522</th>\n      <td>18446167067214817906</td>\n      <td>2017-10-17 10:05:00</td>\n      <td>2017-10-01</td>\n      <td>2017-10-17</td>\n      <td>2017-10-01</td>\n    </tr>\n  </tbody>\n</table>\n<p>36523 rows × 5 columns</p>\n</div>"
     },
     "execution_count": 56,
     "metadata": {},
     "output_type": "execute_result"
    }
   ],
   "source": [
    "# Tabla buyers\n",
    "buyers"
   ]
  },
  {
   "cell_type": "code",
   "execution_count": 57,
   "metadata": {
    "ExecuteTime": {
     "end_time": "2023-07-18T01:06:38.842058700Z",
     "start_time": "2023-07-18T01:06:38.426027700Z"
    }
   },
   "outputs": [
    {
     "data": {
      "text/plain": "                        Uid first_activity_date first_activity_month  \\\n0           313578113262317 2017-09-18 22:49:00           2017-09-01   \n1          1575281904278712 2017-06-03 10:13:00           2017-06-01   \n2          2429014661409475 2017-10-11 17:14:00           2017-10-01   \n3          2464366381792757 2018-01-27 20:10:00           2018-01-01   \n4          2551852515556206 2017-11-24 10:14:00           2017-11-01   \n...                     ...                 ...                  ...   \n36518  18445147675727495770 2017-08-20 13:30:00           2017-08-01   \n36519  18445407535914413204 2017-09-22 23:48:00           2017-09-01   \n36520  18445601152732270159 2017-08-07 11:51:00           2017-08-01   \n36521  18446156210226471712 2017-11-07 10:01:00           2017-11-01   \n36522  18446167067214817906 2017-10-17 10:05:00           2017-10-01   \n\n      first_buy_date first_buy_month   Device              End Ts  Source Id  \\\n0         2018-01-03      2018-01-01  desktop 2017-09-18 23:07:00          2   \n1         2017-06-03      2017-06-01    touch 2017-06-03 10:17:00         10   \n2         2017-10-11      2017-10-01  desktop 2017-10-11 17:27:00          3   \n3         2018-01-28      2018-01-01  desktop 2018-01-27 20:13:00          5   \n4         2017-11-24      2017-11-01  desktop 2017-11-24 10:14:19          5   \n...              ...             ...      ...                 ...        ...   \n36518     2017-11-24      2017-11-01    touch 2017-08-20 13:30:00          5   \n36519     2017-09-22      2017-09-01  desktop 2017-09-22 23:55:00          3   \n36520     2018-03-26      2018-03-01  desktop 2017-08-07 11:52:00          2   \n36521     2018-02-18      2018-02-01  desktop 2017-11-07 10:04:00          3   \n36522     2017-10-17      2017-10-01  desktop 2017-10-17 10:07:00          5   \n\n                 Start Ts  session_year session_month session_week  \\\n0     2017-09-18 22:49:00          2017    2017-09-01   2017-09-14   \n1     2017-06-03 10:13:00          2017    2017-06-01   2017-06-01   \n2     2017-10-11 17:14:00          2017    2017-10-01   2017-10-05   \n3     2018-01-27 20:10:00          2018    2018-01-01   2018-01-25   \n4     2017-11-24 10:14:00          2017    2017-11-01   2017-11-23   \n...                   ...           ...           ...          ...   \n36518 2017-08-20 13:30:00          2017    2017-08-01   2017-08-17   \n36519 2017-09-22 23:48:00          2017    2017-09-01   2017-09-21   \n36520 2017-08-07 11:51:00          2017    2017-08-01   2017-08-03   \n36521 2017-11-07 10:01:00          2017    2017-11-01   2017-11-02   \n36522 2017-10-17 10:05:00          2017    2017-10-01   2017-10-12   \n\n      session_date  session_duration_sec  \n0       2017-09-18                  1080  \n1       2017-06-03                   240  \n2       2017-10-11                   780  \n3       2018-01-27                   180  \n4       2017-11-24                    19  \n...            ...                   ...  \n36518   2017-08-20                     0  \n36519   2017-09-22                   420  \n36520   2017-08-07                    60  \n36521   2017-11-07                   180  \n36522   2017-10-17                   120  \n\n[36523 rows x 14 columns]",
      "text/html": "<div>\n<style scoped>\n    .dataframe tbody tr th:only-of-type {\n        vertical-align: middle;\n    }\n\n    .dataframe tbody tr th {\n        vertical-align: top;\n    }\n\n    .dataframe thead th {\n        text-align: right;\n    }\n</style>\n<table border=\"1\" class=\"dataframe\">\n  <thead>\n    <tr style=\"text-align: right;\">\n      <th></th>\n      <th>Uid</th>\n      <th>first_activity_date</th>\n      <th>first_activity_month</th>\n      <th>first_buy_date</th>\n      <th>first_buy_month</th>\n      <th>Device</th>\n      <th>End Ts</th>\n      <th>Source Id</th>\n      <th>Start Ts</th>\n      <th>session_year</th>\n      <th>session_month</th>\n      <th>session_week</th>\n      <th>session_date</th>\n      <th>session_duration_sec</th>\n    </tr>\n  </thead>\n  <tbody>\n    <tr>\n      <th>0</th>\n      <td>313578113262317</td>\n      <td>2017-09-18 22:49:00</td>\n      <td>2017-09-01</td>\n      <td>2018-01-03</td>\n      <td>2018-01-01</td>\n      <td>desktop</td>\n      <td>2017-09-18 23:07:00</td>\n      <td>2</td>\n      <td>2017-09-18 22:49:00</td>\n      <td>2017</td>\n      <td>2017-09-01</td>\n      <td>2017-09-14</td>\n      <td>2017-09-18</td>\n      <td>1080</td>\n    </tr>\n    <tr>\n      <th>1</th>\n      <td>1575281904278712</td>\n      <td>2017-06-03 10:13:00</td>\n      <td>2017-06-01</td>\n      <td>2017-06-03</td>\n      <td>2017-06-01</td>\n      <td>touch</td>\n      <td>2017-06-03 10:17:00</td>\n      <td>10</td>\n      <td>2017-06-03 10:13:00</td>\n      <td>2017</td>\n      <td>2017-06-01</td>\n      <td>2017-06-01</td>\n      <td>2017-06-03</td>\n      <td>240</td>\n    </tr>\n    <tr>\n      <th>2</th>\n      <td>2429014661409475</td>\n      <td>2017-10-11 17:14:00</td>\n      <td>2017-10-01</td>\n      <td>2017-10-11</td>\n      <td>2017-10-01</td>\n      <td>desktop</td>\n      <td>2017-10-11 17:27:00</td>\n      <td>3</td>\n      <td>2017-10-11 17:14:00</td>\n      <td>2017</td>\n      <td>2017-10-01</td>\n      <td>2017-10-05</td>\n      <td>2017-10-11</td>\n      <td>780</td>\n    </tr>\n    <tr>\n      <th>3</th>\n      <td>2464366381792757</td>\n      <td>2018-01-27 20:10:00</td>\n      <td>2018-01-01</td>\n      <td>2018-01-28</td>\n      <td>2018-01-01</td>\n      <td>desktop</td>\n      <td>2018-01-27 20:13:00</td>\n      <td>5</td>\n      <td>2018-01-27 20:10:00</td>\n      <td>2018</td>\n      <td>2018-01-01</td>\n      <td>2018-01-25</td>\n      <td>2018-01-27</td>\n      <td>180</td>\n    </tr>\n    <tr>\n      <th>4</th>\n      <td>2551852515556206</td>\n      <td>2017-11-24 10:14:00</td>\n      <td>2017-11-01</td>\n      <td>2017-11-24</td>\n      <td>2017-11-01</td>\n      <td>desktop</td>\n      <td>2017-11-24 10:14:19</td>\n      <td>5</td>\n      <td>2017-11-24 10:14:00</td>\n      <td>2017</td>\n      <td>2017-11-01</td>\n      <td>2017-11-23</td>\n      <td>2017-11-24</td>\n      <td>19</td>\n    </tr>\n    <tr>\n      <th>...</th>\n      <td>...</td>\n      <td>...</td>\n      <td>...</td>\n      <td>...</td>\n      <td>...</td>\n      <td>...</td>\n      <td>...</td>\n      <td>...</td>\n      <td>...</td>\n      <td>...</td>\n      <td>...</td>\n      <td>...</td>\n      <td>...</td>\n      <td>...</td>\n    </tr>\n    <tr>\n      <th>36518</th>\n      <td>18445147675727495770</td>\n      <td>2017-08-20 13:30:00</td>\n      <td>2017-08-01</td>\n      <td>2017-11-24</td>\n      <td>2017-11-01</td>\n      <td>touch</td>\n      <td>2017-08-20 13:30:00</td>\n      <td>5</td>\n      <td>2017-08-20 13:30:00</td>\n      <td>2017</td>\n      <td>2017-08-01</td>\n      <td>2017-08-17</td>\n      <td>2017-08-20</td>\n      <td>0</td>\n    </tr>\n    <tr>\n      <th>36519</th>\n      <td>18445407535914413204</td>\n      <td>2017-09-22 23:48:00</td>\n      <td>2017-09-01</td>\n      <td>2017-09-22</td>\n      <td>2017-09-01</td>\n      <td>desktop</td>\n      <td>2017-09-22 23:55:00</td>\n      <td>3</td>\n      <td>2017-09-22 23:48:00</td>\n      <td>2017</td>\n      <td>2017-09-01</td>\n      <td>2017-09-21</td>\n      <td>2017-09-22</td>\n      <td>420</td>\n    </tr>\n    <tr>\n      <th>36520</th>\n      <td>18445601152732270159</td>\n      <td>2017-08-07 11:51:00</td>\n      <td>2017-08-01</td>\n      <td>2018-03-26</td>\n      <td>2018-03-01</td>\n      <td>desktop</td>\n      <td>2017-08-07 11:52:00</td>\n      <td>2</td>\n      <td>2017-08-07 11:51:00</td>\n      <td>2017</td>\n      <td>2017-08-01</td>\n      <td>2017-08-03</td>\n      <td>2017-08-07</td>\n      <td>60</td>\n    </tr>\n    <tr>\n      <th>36521</th>\n      <td>18446156210226471712</td>\n      <td>2017-11-07 10:01:00</td>\n      <td>2017-11-01</td>\n      <td>2018-02-18</td>\n      <td>2018-02-01</td>\n      <td>desktop</td>\n      <td>2017-11-07 10:04:00</td>\n      <td>3</td>\n      <td>2017-11-07 10:01:00</td>\n      <td>2017</td>\n      <td>2017-11-01</td>\n      <td>2017-11-02</td>\n      <td>2017-11-07</td>\n      <td>180</td>\n    </tr>\n    <tr>\n      <th>36522</th>\n      <td>18446167067214817906</td>\n      <td>2017-10-17 10:05:00</td>\n      <td>2017-10-01</td>\n      <td>2017-10-17</td>\n      <td>2017-10-01</td>\n      <td>desktop</td>\n      <td>2017-10-17 10:07:00</td>\n      <td>5</td>\n      <td>2017-10-17 10:05:00</td>\n      <td>2017</td>\n      <td>2017-10-01</td>\n      <td>2017-10-12</td>\n      <td>2017-10-17</td>\n      <td>120</td>\n    </tr>\n  </tbody>\n</table>\n<p>36523 rows × 14 columns</p>\n</div>"
     },
     "execution_count": 57,
     "metadata": {},
     "output_type": "execute_result"
    }
   ],
   "source": [
    "# Unimos nuestra tabla buyers previamente generada con la tabla de usuarios\n",
    "buyers = pd.merge(buyers, users, left_on='Uid', right_index=True)\n",
    "buyers"
   ]
  },
  {
   "cell_type": "code",
   "execution_count": 58,
   "metadata": {
    "ExecuteTime": {
     "end_time": "2023-07-18T01:06:39.070024600Z",
     "start_time": "2023-07-18T01:06:38.536025500Z"
    }
   },
   "outputs": [
    {
     "data": {
      "text/plain": "      Source Id first_buy_date  n_buyers\n0             1     2017-06-01        14\n1             1     2017-06-02         7\n2             1     2017-06-03         7\n3             1     2017-06-04         3\n4             1     2017-06-05        18\n...         ...            ...       ...\n2430         10     2018-05-27         2\n2431         10     2018-05-28        10\n2432         10     2018-05-29         7\n2433         10     2018-05-30         5\n2434         10     2018-05-31        35\n\n[2435 rows x 3 columns]",
      "text/html": "<div>\n<style scoped>\n    .dataframe tbody tr th:only-of-type {\n        vertical-align: middle;\n    }\n\n    .dataframe tbody tr th {\n        vertical-align: top;\n    }\n\n    .dataframe thead th {\n        text-align: right;\n    }\n</style>\n<table border=\"1\" class=\"dataframe\">\n  <thead>\n    <tr style=\"text-align: right;\">\n      <th></th>\n      <th>Source Id</th>\n      <th>first_buy_date</th>\n      <th>n_buyers</th>\n    </tr>\n  </thead>\n  <tbody>\n    <tr>\n      <th>0</th>\n      <td>1</td>\n      <td>2017-06-01</td>\n      <td>14</td>\n    </tr>\n    <tr>\n      <th>1</th>\n      <td>1</td>\n      <td>2017-06-02</td>\n      <td>7</td>\n    </tr>\n    <tr>\n      <th>2</th>\n      <td>1</td>\n      <td>2017-06-03</td>\n      <td>7</td>\n    </tr>\n    <tr>\n      <th>3</th>\n      <td>1</td>\n      <td>2017-06-04</td>\n      <td>3</td>\n    </tr>\n    <tr>\n      <th>4</th>\n      <td>1</td>\n      <td>2017-06-05</td>\n      <td>18</td>\n    </tr>\n    <tr>\n      <th>...</th>\n      <td>...</td>\n      <td>...</td>\n      <td>...</td>\n    </tr>\n    <tr>\n      <th>2430</th>\n      <td>10</td>\n      <td>2018-05-27</td>\n      <td>2</td>\n    </tr>\n    <tr>\n      <th>2431</th>\n      <td>10</td>\n      <td>2018-05-28</td>\n      <td>10</td>\n    </tr>\n    <tr>\n      <th>2432</th>\n      <td>10</td>\n      <td>2018-05-29</td>\n      <td>7</td>\n    </tr>\n    <tr>\n      <th>2433</th>\n      <td>10</td>\n      <td>2018-05-30</td>\n      <td>5</td>\n    </tr>\n    <tr>\n      <th>2434</th>\n      <td>10</td>\n      <td>2018-05-31</td>\n      <td>35</td>\n    </tr>\n  </tbody>\n</table>\n<p>2435 rows × 3 columns</p>\n</div>"
     },
     "execution_count": 58,
     "metadata": {},
     "output_type": "execute_result"
    }
   ],
   "source": [
    "# Por fuente de anuncios, generamos los clientes por dia\n",
    "buyers_daily = buyers.groupby(['Source Id', 'first_buy_date']).agg({'Uid': 'count'}).reset_index()\n",
    "buyers_daily.rename(columns={'Uid': 'n_buyers'}, inplace=True)\n",
    "buyers_daily['first_buy_date'] = pd.to_datetime(buyers_daily['first_buy_date'])\n",
    "# Verificamos que el dataframe se haya generado correctamente\n",
    "buyers_daily"
   ]
  },
  {
   "cell_type": "code",
   "execution_count": 59,
   "metadata": {
    "ExecuteTime": {
     "end_time": "2023-07-18T01:06:39.071023600Z",
     "start_time": "2023-07-18T01:06:38.583024300Z"
    }
   },
   "outputs": [
    {
     "data": {
      "text/plain": "   Source Id first_buy_date  n_buyers  source_id         dt  costs cost_month\n0          1     2017-06-01        14          1 2017-06-01  75.20 2017-06-01\n1          1     2017-06-02         7          1 2017-06-02  62.25 2017-06-01\n2          1     2017-06-03         7          1 2017-06-03  36.53 2017-06-01\n3          1     2017-06-04         3          1 2017-06-04  55.00 2017-06-01\n4          1     2017-06-05        18          1 2017-06-05  57.08 2017-06-01",
      "text/html": "<div>\n<style scoped>\n    .dataframe tbody tr th:only-of-type {\n        vertical-align: middle;\n    }\n\n    .dataframe tbody tr th {\n        vertical-align: top;\n    }\n\n    .dataframe thead th {\n        text-align: right;\n    }\n</style>\n<table border=\"1\" class=\"dataframe\">\n  <thead>\n    <tr style=\"text-align: right;\">\n      <th></th>\n      <th>Source Id</th>\n      <th>first_buy_date</th>\n      <th>n_buyers</th>\n      <th>source_id</th>\n      <th>dt</th>\n      <th>costs</th>\n      <th>cost_month</th>\n    </tr>\n  </thead>\n  <tbody>\n    <tr>\n      <th>0</th>\n      <td>1</td>\n      <td>2017-06-01</td>\n      <td>14</td>\n      <td>1</td>\n      <td>2017-06-01</td>\n      <td>75.20</td>\n      <td>2017-06-01</td>\n    </tr>\n    <tr>\n      <th>1</th>\n      <td>1</td>\n      <td>2017-06-02</td>\n      <td>7</td>\n      <td>1</td>\n      <td>2017-06-02</td>\n      <td>62.25</td>\n      <td>2017-06-01</td>\n    </tr>\n    <tr>\n      <th>2</th>\n      <td>1</td>\n      <td>2017-06-03</td>\n      <td>7</td>\n      <td>1</td>\n      <td>2017-06-03</td>\n      <td>36.53</td>\n      <td>2017-06-01</td>\n    </tr>\n    <tr>\n      <th>3</th>\n      <td>1</td>\n      <td>2017-06-04</td>\n      <td>3</td>\n      <td>1</td>\n      <td>2017-06-04</td>\n      <td>55.00</td>\n      <td>2017-06-01</td>\n    </tr>\n    <tr>\n      <th>4</th>\n      <td>1</td>\n      <td>2017-06-05</td>\n      <td>18</td>\n      <td>1</td>\n      <td>2017-06-05</td>\n      <td>57.08</td>\n      <td>2017-06-01</td>\n    </tr>\n  </tbody>\n</table>\n</div>"
     },
     "execution_count": 59,
     "metadata": {},
     "output_type": "execute_result"
    }
   ],
   "source": [
    "# Unimos nuestra tabla de clientes diarios con la tabla de costos\n",
    "costs = pd.merge(buyers_daily, data_costs, left_on=['Source Id', 'first_buy_date'], right_on=['source_id', 'dt'])\n",
    "costs.head()"
   ]
  },
  {
   "cell_type": "code",
   "execution_count": 60,
   "metadata": {
    "ExecuteTime": {
     "end_time": "2023-07-18T01:06:39.072041Z",
     "start_time": "2023-07-18T01:06:38.615026700Z"
    }
   },
   "outputs": [
    {
     "data": {
      "text/plain": "   source_id    cac\n0          1   9.49\n1          2  16.29\n2          3  15.58\n3          4   7.27\n4          5   8.34\n5          9   6.84\n6         10   6.56",
      "text/html": "<div>\n<style scoped>\n    .dataframe tbody tr th:only-of-type {\n        vertical-align: middle;\n    }\n\n    .dataframe tbody tr th {\n        vertical-align: top;\n    }\n\n    .dataframe thead th {\n        text-align: right;\n    }\n</style>\n<table border=\"1\" class=\"dataframe\">\n  <thead>\n    <tr style=\"text-align: right;\">\n      <th></th>\n      <th>source_id</th>\n      <th>cac</th>\n    </tr>\n  </thead>\n  <tbody>\n    <tr>\n      <th>0</th>\n      <td>1</td>\n      <td>9.49</td>\n    </tr>\n    <tr>\n      <th>1</th>\n      <td>2</td>\n      <td>16.29</td>\n    </tr>\n    <tr>\n      <th>2</th>\n      <td>3</td>\n      <td>15.58</td>\n    </tr>\n    <tr>\n      <th>3</th>\n      <td>4</td>\n      <td>7.27</td>\n    </tr>\n    <tr>\n      <th>4</th>\n      <td>5</td>\n      <td>8.34</td>\n    </tr>\n    <tr>\n      <th>5</th>\n      <td>9</td>\n      <td>6.84</td>\n    </tr>\n    <tr>\n      <th>6</th>\n      <td>10</td>\n      <td>6.56</td>\n    </tr>\n  </tbody>\n</table>\n</div>"
     },
     "execution_count": 60,
     "metadata": {},
     "output_type": "execute_result"
    }
   ],
   "source": [
    "# Generamos el CAC\n",
    "costs['cac'] = costs['costs'] / costs['n_buyers']\n",
    "tabla_cac = costs.groupby('source_id').agg({'cac': 'mean'}).round(2)\n",
    "tabla_cac = tabla_cac.reset_index()\n",
    "tabla_cac"
   ]
  },
  {
   "cell_type": "code",
   "execution_count": 61,
   "metadata": {
    "ExecuteTime": {
     "end_time": "2023-07-18T01:06:39.235021500Z",
     "start_time": "2023-07-18T01:06:38.666022100Z"
    }
   },
   "outputs": [
    {
     "data": {
      "text/plain": "<seaborn.axisgrid.FacetGrid at 0x1c473f689a0>"
     },
     "execution_count": 61,
     "metadata": {},
     "output_type": "execute_result"
    },
    {
     "data": {
      "text/plain": "<Figure size 360x360 with 1 Axes>",
      "image/png": "[encoded data removed]"
     },
     "metadata": {},
     "output_type": "display_data"
    }
   ],
   "source": [
    "# Graficamos el CAC por source_id\n",
    "sns.catplot(\n",
    "    data=tabla_cac, kind=\"bar\",\n",
    "    x=\"source_id\", y=\"cac\").set(title='CAC por tipo de fuente de anuncio',\n",
    "                                xlabel='Fuente de anuncio', ylabel='CAC en $')"
   ]
  },
  {
   "cell_type": "markdown",
   "metadata": {},
   "source": [
    "##### ¿Cuán rentables eran las inversiones? (ROI)"
   ]
  },
  {
   "cell_type": "code",
   "execution_count": 62,
   "metadata": {
    "ExecuteTime": {
     "end_time": "2023-07-18T01:06:39.827045300Z",
     "start_time": "2023-07-18T01:06:39.008029100Z"
    }
   },
   "outputs": [
    {
     "data": {
      "text/plain": "                         Uid  Source Id\n0             11863502262781          3\n1             49537067089222          2\n2            297729379853735          3\n3            313578113262317          2\n4            325320750514679          5\n...                      ...        ...\n228165  18446403737806311543          5\n228166  18446424184725333426          4\n228167  18446556406699109058          3\n228168  18446621818809592527          4\n228169  18446676030785672386          3\n\n[228170 rows x 2 columns]",
      "text/html": "<div>\n<style scoped>\n    .dataframe tbody tr th:only-of-type {\n        vertical-align: middle;\n    }\n\n    .dataframe tbody tr th {\n        vertical-align: top;\n    }\n\n    .dataframe thead th {\n        text-align: right;\n    }\n</style>\n<table border=\"1\" class=\"dataframe\">\n  <thead>\n    <tr style=\"text-align: right;\">\n      <th></th>\n      <th>Uid</th>\n      <th>Source Id</th>\n    </tr>\n  </thead>\n  <tbody>\n    <tr>\n      <th>0</th>\n      <td>11863502262781</td>\n      <td>3</td>\n    </tr>\n    <tr>\n      <th>1</th>\n      <td>49537067089222</td>\n      <td>2</td>\n    </tr>\n    <tr>\n      <th>2</th>\n      <td>297729379853735</td>\n      <td>3</td>\n    </tr>\n    <tr>\n      <th>3</th>\n      <td>313578113262317</td>\n      <td>2</td>\n    </tr>\n    <tr>\n      <th>4</th>\n      <td>325320750514679</td>\n      <td>5</td>\n    </tr>\n    <tr>\n      <th>...</th>\n      <td>...</td>\n      <td>...</td>\n    </tr>\n    <tr>\n      <th>228165</th>\n      <td>18446403737806311543</td>\n      <td>5</td>\n    </tr>\n    <tr>\n      <th>228166</th>\n      <td>18446424184725333426</td>\n      <td>4</td>\n    </tr>\n    <tr>\n      <th>228167</th>\n      <td>18446556406699109058</td>\n      <td>3</td>\n    </tr>\n    <tr>\n      <th>228168</th>\n      <td>18446621818809592527</td>\n      <td>4</td>\n    </tr>\n    <tr>\n      <th>228169</th>\n      <td>18446676030785672386</td>\n      <td>3</td>\n    </tr>\n  </tbody>\n</table>\n<p>228170 rows × 2 columns</p>\n</div>"
     },
     "execution_count": 62,
     "metadata": {},
     "output_type": "execute_result"
    }
   ],
   "source": [
    "# Generamos la tabla de los usuarios con la primera fuente de anuncios con la que llegaron\n",
    "users_first_source = pd.merge(first_activity_date, data_visits[['Uid', 'Start Ts', 'Source Id']],\n",
    "                              left_on=['first_activity_date', 'Uid'], right_on=['Start Ts', 'Uid'], how='inner')\n",
    "users_first_source = users_first_source[['Uid', 'Source Id']]\n",
    "users_first_source"
   ]
  },
  {
   "cell_type": "code",
   "execution_count": 63,
   "metadata": {
    "ExecuteTime": {
     "end_time": "2023-07-18T01:06:39.955025200Z",
     "start_time": "2023-07-18T01:06:39.353029Z"
    }
   },
   "outputs": [],
   "source": [
    "# Agregamos los source id a la tabla de ordenes y agrupamos por source id y fecha para sacar el beneficio diario\n",
    "data_orders_sources = data_orders.merge(users_first_source, on='Uid').groupby(['Source Id', 'order_date'])['Revenue'].sum()\n",
    "data_orders_sources = data_orders_sources.reset_index()\n",
    "data_orders_sources['order_date'] = pd.to_datetime(data_orders_sources['order_date'])"
   ]
  },
  {
   "cell_type": "code",
   "execution_count": 64,
   "metadata": {
    "ExecuteTime": {
     "end_time": "2023-07-18T01:06:40.009022200Z",
     "start_time": "2023-07-18T01:06:39.467029Z"
    }
   },
   "outputs": [
    {
     "data": {
      "text/plain": "   Source Id first_buy_date  n_buyers order_date  Revenue\n0          1     2017-06-01        14 2017-06-01   170.27\n1          1     2017-06-02         7 2017-06-02    61.90\n2          1     2017-06-03         7 2017-06-03    24.71\n3          1     2017-06-04         3 2017-06-04    24.65\n4          1     2017-06-05        18 2017-06-05    74.83",
      "text/html": "<div>\n<style scoped>\n    .dataframe tbody tr th:only-of-type {\n        vertical-align: middle;\n    }\n\n    .dataframe tbody tr th {\n        vertical-align: top;\n    }\n\n    .dataframe thead th {\n        text-align: right;\n    }\n</style>\n<table border=\"1\" class=\"dataframe\">\n  <thead>\n    <tr style=\"text-align: right;\">\n      <th></th>\n      <th>Source Id</th>\n      <th>first_buy_date</th>\n      <th>n_buyers</th>\n      <th>order_date</th>\n      <th>Revenue</th>\n    </tr>\n  </thead>\n  <tbody>\n    <tr>\n      <th>0</th>\n      <td>1</td>\n      <td>2017-06-01</td>\n      <td>14</td>\n      <td>2017-06-01</td>\n      <td>170.27</td>\n    </tr>\n    <tr>\n      <th>1</th>\n      <td>1</td>\n      <td>2017-06-02</td>\n      <td>7</td>\n      <td>2017-06-02</td>\n      <td>61.90</td>\n    </tr>\n    <tr>\n      <th>2</th>\n      <td>1</td>\n      <td>2017-06-03</td>\n      <td>7</td>\n      <td>2017-06-03</td>\n      <td>24.71</td>\n    </tr>\n    <tr>\n      <th>3</th>\n      <td>1</td>\n      <td>2017-06-04</td>\n      <td>3</td>\n      <td>2017-06-04</td>\n      <td>24.65</td>\n    </tr>\n    <tr>\n      <th>4</th>\n      <td>1</td>\n      <td>2017-06-05</td>\n      <td>18</td>\n      <td>2017-06-05</td>\n      <td>74.83</td>\n    </tr>\n  </tbody>\n</table>\n</div>"
     },
     "execution_count": 64,
     "metadata": {},
     "output_type": "execute_result"
    }
   ],
   "source": [
    "# Unimos nuestra tabla de clientes diarios con la tabla de beneficios\n",
    "revenue = pd.merge(buyers_daily, data_orders_sources, left_on=['Source Id', 'first_buy_date'], right_on=['Source Id', 'order_date'])\n",
    "revenue.head()"
   ]
  },
  {
   "cell_type": "code",
   "execution_count": 65,
   "metadata": {
    "ExecuteTime": {
     "end_time": "2023-07-18T01:06:40.010025800Z",
     "start_time": "2023-07-18T01:06:39.500028200Z"
    }
   },
   "outputs": [
    {
     "data": {
      "text/plain": "   Source Id first_buy_date  n_buyers order_date  Revenue  source_id  \\\n0          1     2017-06-01        14 2017-06-01   170.27          1   \n1          1     2017-06-02         7 2017-06-02    61.90          1   \n2          1     2017-06-03         7 2017-06-03    24.71          1   \n3          1     2017-06-04         3 2017-06-04    24.65          1   \n4          1     2017-06-05        18 2017-06-05    74.83          1   \n\n          dt  costs cost_month  \n0 2017-06-01  75.20 2017-06-01  \n1 2017-06-02  62.25 2017-06-01  \n2 2017-06-03  36.53 2017-06-01  \n3 2017-06-04  55.00 2017-06-01  \n4 2017-06-05  57.08 2017-06-01  ",
      "text/html": "<div>\n<style scoped>\n    .dataframe tbody tr th:only-of-type {\n        vertical-align: middle;\n    }\n\n    .dataframe tbody tr th {\n        vertical-align: top;\n    }\n\n    .dataframe thead th {\n        text-align: right;\n    }\n</style>\n<table border=\"1\" class=\"dataframe\">\n  <thead>\n    <tr style=\"text-align: right;\">\n      <th></th>\n      <th>Source Id</th>\n      <th>first_buy_date</th>\n      <th>n_buyers</th>\n      <th>order_date</th>\n      <th>Revenue</th>\n      <th>source_id</th>\n      <th>dt</th>\n      <th>costs</th>\n      <th>cost_month</th>\n    </tr>\n  </thead>\n  <tbody>\n    <tr>\n      <th>0</th>\n      <td>1</td>\n      <td>2017-06-01</td>\n      <td>14</td>\n      <td>2017-06-01</td>\n      <td>170.27</td>\n      <td>1</td>\n      <td>2017-06-01</td>\n      <td>75.20</td>\n      <td>2017-06-01</td>\n    </tr>\n    <tr>\n      <th>1</th>\n      <td>1</td>\n      <td>2017-06-02</td>\n      <td>7</td>\n      <td>2017-06-02</td>\n      <td>61.90</td>\n      <td>1</td>\n      <td>2017-06-02</td>\n      <td>62.25</td>\n      <td>2017-06-01</td>\n    </tr>\n    <tr>\n      <th>2</th>\n      <td>1</td>\n      <td>2017-06-03</td>\n      <td>7</td>\n      <td>2017-06-03</td>\n      <td>24.71</td>\n      <td>1</td>\n      <td>2017-06-03</td>\n      <td>36.53</td>\n      <td>2017-06-01</td>\n    </tr>\n    <tr>\n      <th>3</th>\n      <td>1</td>\n      <td>2017-06-04</td>\n      <td>3</td>\n      <td>2017-06-04</td>\n      <td>24.65</td>\n      <td>1</td>\n      <td>2017-06-04</td>\n      <td>55.00</td>\n      <td>2017-06-01</td>\n    </tr>\n    <tr>\n      <th>4</th>\n      <td>1</td>\n      <td>2017-06-05</td>\n      <td>18</td>\n      <td>2017-06-05</td>\n      <td>74.83</td>\n      <td>1</td>\n      <td>2017-06-05</td>\n      <td>57.08</td>\n      <td>2017-06-01</td>\n    </tr>\n  </tbody>\n</table>\n</div>"
     },
     "execution_count": 65,
     "metadata": {},
     "output_type": "execute_result"
    }
   ],
   "source": [
    "# Unimos nuestra tabla de clientes diarios con la tabla de costos\n",
    "costs_revenue = pd.merge(revenue, data_costs, left_on=['Source Id', 'first_buy_date'], right_on=['source_id', 'dt'])\n",
    "costs_revenue.head()"
   ]
  },
  {
   "cell_type": "code",
   "execution_count": 66,
   "metadata": {
    "ExecuteTime": {
     "end_time": "2023-07-18T01:06:40.011025300Z",
     "start_time": "2023-07-18T01:06:39.543026600Z"
    }
   },
   "outputs": [
    {
     "data": {
      "text/plain": "      Source Id first_buy_date  n_buyers order_date  Revenue  source_id  \\\n0             1     2017-06-01        14 2017-06-01   170.27          1   \n1             1     2017-06-02         7 2017-06-02    61.90          1   \n2             1     2017-06-03         7 2017-06-03    24.71          1   \n3             1     2017-06-04         3 2017-06-04    24.65          1   \n4             1     2017-06-05        18 2017-06-05    74.83          1   \n...         ...            ...       ...        ...      ...        ...   \n2428         10     2018-05-27         2 2018-05-27     5.44         10   \n2429         10     2018-05-28        10 2018-05-28    14.36         10   \n2430         10     2018-05-29         7 2018-05-29    26.29         10   \n2431         10     2018-05-30         5 2018-05-30     9.28         10   \n2432         10     2018-05-31        35 2018-05-31   252.17         10   \n\n             dt  costs cost_month        ltv        cac  \n0    2017-06-01  75.20 2017-06-01  12.162143   5.371429  \n1    2017-06-02  62.25 2017-06-01   8.842857   8.892857  \n2    2017-06-03  36.53 2017-06-01   3.530000   5.218571  \n3    2017-06-04  55.00 2017-06-01   8.216667  18.333333  \n4    2017-06-05  57.08 2017-06-01   4.157222   3.171111  \n...         ...    ...        ...        ...        ...  \n2428 2018-05-27   9.92 2018-05-01   2.720000   4.960000  \n2429 2018-05-28  21.26 2018-05-01   1.436000   2.126000  \n2430 2018-05-29  11.32 2018-05-01   3.755714   1.617143  \n2431 2018-05-30  33.15 2018-05-01   1.856000   6.630000  \n2432 2018-05-31  17.60 2018-05-01   7.204857   0.502857  \n\n[2433 rows x 11 columns]",
      "text/html": "<div>\n<style scoped>\n    .dataframe tbody tr th:only-of-type {\n        vertical-align: middle;\n    }\n\n    .dataframe tbody tr th {\n        vertical-align: top;\n    }\n\n    .dataframe thead th {\n        text-align: right;\n    }\n</style>\n<table border=\"1\" class=\"dataframe\">\n  <thead>\n    <tr style=\"text-align: right;\">\n      <th></th>\n      <th>Source Id</th>\n      <th>first_buy_date</th>\n      <th>n_buyers</th>\n      <th>order_date</th>\n      <th>Revenue</th>\n      <th>source_id</th>\n      <th>dt</th>\n      <th>costs</th>\n      <th>cost_month</th>\n      <th>ltv</th>\n      <th>cac</th>\n    </tr>\n  </thead>\n  <tbody>\n    <tr>\n      <th>0</th>\n      <td>1</td>\n      <td>2017-06-01</td>\n      <td>14</td>\n      <td>2017-06-01</td>\n      <td>170.27</td>\n      <td>1</td>\n      <td>2017-06-01</td>\n      <td>75.20</td>\n      <td>2017-06-01</td>\n      <td>12.162143</td>\n      <td>5.371429</td>\n    </tr>\n    <tr>\n      <th>1</th>\n      <td>1</td>\n      <td>2017-06-02</td>\n      <td>7</td>\n      <td>2017-06-02</td>\n      <td>61.90</td>\n      <td>1</td>\n      <td>2017-06-02</td>\n      <td>62.25</td>\n      <td>2017-06-01</td>\n      <td>8.842857</td>\n      <td>8.892857</td>\n    </tr>\n    <tr>\n      <th>2</th>\n      <td>1</td>\n      <td>2017-06-03</td>\n      <td>7</td>\n      <td>2017-06-03</td>\n      <td>24.71</td>\n      <td>1</td>\n      <td>2017-06-03</td>\n      <td>36.53</td>\n      <td>2017-06-01</td>\n      <td>3.530000</td>\n      <td>5.218571</td>\n    </tr>\n    <tr>\n      <th>3</th>\n      <td>1</td>\n      <td>2017-06-04</td>\n      <td>3</td>\n      <td>2017-06-04</td>\n      <td>24.65</td>\n      <td>1</td>\n      <td>2017-06-04</td>\n      <td>55.00</td>\n      <td>2017-06-01</td>\n      <td>8.216667</td>\n      <td>18.333333</td>\n    </tr>\n    <tr>\n      <th>4</th>\n      <td>1</td>\n      <td>2017-06-05</td>\n      <td>18</td>\n      <td>2017-06-05</td>\n      <td>74.83</td>\n      <td>1</td>\n      <td>2017-06-05</td>\n      <td>57.08</td>\n      <td>2017-06-01</td>\n      <td>4.157222</td>\n      <td>3.171111</td>\n    </tr>\n    <tr>\n      <th>...</th>\n      <td>...</td>\n      <td>...</td>\n      <td>...</td>\n      <td>...</td>\n      <td>...</td>\n      <td>...</td>\n      <td>...</td>\n      <td>...</td>\n      <td>...</td>\n      <td>...</td>\n      <td>...</td>\n    </tr>\n    <tr>\n      <th>2428</th>\n      <td>10</td>\n      <td>2018-05-27</td>\n      <td>2</td>\n      <td>2018-05-27</td>\n      <td>5.44</td>\n      <td>10</td>\n      <td>2018-05-27</td>\n      <td>9.92</td>\n      <td>2018-05-01</td>\n      <td>2.720000</td>\n      <td>4.960000</td>\n    </tr>\n    <tr>\n      <th>2429</th>\n      <td>10</td>\n      <td>2018-05-28</td>\n      <td>10</td>\n      <td>2018-05-28</td>\n      <td>14.36</td>\n      <td>10</td>\n      <td>2018-05-28</td>\n      <td>21.26</td>\n      <td>2018-05-01</td>\n      <td>1.436000</td>\n      <td>2.126000</td>\n    </tr>\n    <tr>\n      <th>2430</th>\n      <td>10</td>\n      <td>2018-05-29</td>\n      <td>7</td>\n      <td>2018-05-29</td>\n      <td>26.29</td>\n      <td>10</td>\n      <td>2018-05-29</td>\n      <td>11.32</td>\n      <td>2018-05-01</td>\n      <td>3.755714</td>\n      <td>1.617143</td>\n    </tr>\n    <tr>\n      <th>2431</th>\n      <td>10</td>\n      <td>2018-05-30</td>\n      <td>5</td>\n      <td>2018-05-30</td>\n      <td>9.28</td>\n      <td>10</td>\n      <td>2018-05-30</td>\n      <td>33.15</td>\n      <td>2018-05-01</td>\n      <td>1.856000</td>\n      <td>6.630000</td>\n    </tr>\n    <tr>\n      <th>2432</th>\n      <td>10</td>\n      <td>2018-05-31</td>\n      <td>35</td>\n      <td>2018-05-31</td>\n      <td>252.17</td>\n      <td>10</td>\n      <td>2018-05-31</td>\n      <td>17.60</td>\n      <td>2018-05-01</td>\n      <td>7.204857</td>\n      <td>0.502857</td>\n    </tr>\n  </tbody>\n</table>\n<p>2433 rows × 11 columns</p>\n</div>"
     },
     "execution_count": 66,
     "metadata": {},
     "output_type": "execute_result"
    }
   ],
   "source": [
    "# Generamos el CAC y LTV\n",
    "costs_revenue['ltv'] = costs_revenue['Revenue'] / costs_revenue['n_buyers']\n",
    "costs_revenue['cac'] = costs_revenue['costs'] / costs_revenue['n_buyers']\n",
    "\n",
    "# Imprimimos la tabla\n",
    "costs_revenue"
   ]
  },
  {
   "cell_type": "code",
   "execution_count": 67,
   "metadata": {
    "ExecuteTime": {
     "end_time": "2023-07-18T01:06:40.012025900Z",
     "start_time": "2023-07-18T01:06:39.671028500Z"
    }
   },
   "outputs": [
    {
     "data": {
      "text/plain": "   source_id  romi\n0          1  1.56\n1          2  1.05\n2          3  0.45\n3          4  3.84\n4          5  1.01\n5          9  1.22\n6         10  1.11",
      "text/html": "<div>\n<style scoped>\n    .dataframe tbody tr th:only-of-type {\n        vertical-align: middle;\n    }\n\n    .dataframe tbody tr th {\n        vertical-align: top;\n    }\n\n    .dataframe thead th {\n        text-align: right;\n    }\n</style>\n<table border=\"1\" class=\"dataframe\">\n  <thead>\n    <tr style=\"text-align: right;\">\n      <th></th>\n      <th>source_id</th>\n      <th>romi</th>\n    </tr>\n  </thead>\n  <tbody>\n    <tr>\n      <th>0</th>\n      <td>1</td>\n      <td>1.56</td>\n    </tr>\n    <tr>\n      <th>1</th>\n      <td>2</td>\n      <td>1.05</td>\n    </tr>\n    <tr>\n      <th>2</th>\n      <td>3</td>\n      <td>0.45</td>\n    </tr>\n    <tr>\n      <th>3</th>\n      <td>4</td>\n      <td>3.84</td>\n    </tr>\n    <tr>\n      <th>4</th>\n      <td>5</td>\n      <td>1.01</td>\n    </tr>\n    <tr>\n      <th>5</th>\n      <td>9</td>\n      <td>1.22</td>\n    </tr>\n    <tr>\n      <th>6</th>\n      <td>10</td>\n      <td>1.11</td>\n    </tr>\n  </tbody>\n</table>\n</div>"
     },
     "execution_count": 67,
     "metadata": {},
     "output_type": "execute_result"
    }
   ],
   "source": [
    "# Generamos el ROMI\n",
    "costs_revenue['romi'] = costs_revenue['ltv'] / costs_revenue['cac']\n",
    "tabla_romi = costs_revenue.groupby('source_id').agg({'romi': 'mean'}).round(2)\n",
    "tabla_romi = tabla_romi.reset_index()\n",
    "tabla_romi"
   ]
  },
  {
   "cell_type": "code",
   "execution_count": 68,
   "metadata": {
    "ExecuteTime": {
     "end_time": "2023-07-18T01:06:40.163023Z",
     "start_time": "2023-07-18T01:06:39.760022900Z"
    }
   },
   "outputs": [
    {
     "data": {
      "text/plain": "<seaborn.axisgrid.FacetGrid at 0x1c4743f3e80>"
     },
     "execution_count": 68,
     "metadata": {},
     "output_type": "execute_result"
    },
    {
     "data": {
      "text/plain": "<Figure size 360x360 with 1 Axes>",
      "image/png": "[encoded data removed]"
     },
     "metadata": {},
     "output_type": "display_data"
    }
   ],
   "source": [
    "# Graficamos el ROMi por source_id\n",
    "sns.catplot(\n",
    "    data=tabla_romi, kind=\"bar\",\n",
    "    x=\"source_id\", y=\"romi\").set(title='ROMI por tipo de fuente de anuncio',\n",
    "                                xlabel='Fuente de anuncio', ylabel='ROMI')"
   ]
  },
  {
   "cell_type": "markdown",
   "metadata": {},
   "source": [
    "##### Conclusiones marketing\n",
    "\n",
    "- ¿Cuánto dinero se gastó? (Total/por fuente/a lo largo del tiempo)\n",
    "- ¿Cuánto costó la adquisición de clientes de cada una de las fuentes?\n",
    "- ¿Cuán rentables eran las inversiones? (ROI)\n",
    "\n",
    "Una vez realizado el análisis tenemos que:\n",
    "- La fuente de anuncios 3 fue la que más dinero gasto a lo largo del tiempo, mientras que la fuente 10 fue la que menos dinero gasto.\n",
    "- Las fuentes de anuncios 2 y 3 fue donde en promedio fue más costoso adquirir un cliente (superando los $\\$14$) mientras que las fuentes 4, 9 y 10 es donde más barato fue conseguirlos\n",
    "- Las fuente 4 tiene el ROMI más alto (superando los 3.5 puntos) mientras que la fuente 3 es la que menor ROMI nos entrega siendo este menor a de 0.5 puntos"
   ]
  },
  {
   "cell_type": "markdown",
   "metadata": {},
   "source": [
    "## Conclusión final <a id='conclusión_final'></a>"
   ]
  },
  {
   "cell_type": "markdown",
   "metadata": {},
   "source": [
    "¿Qué fuentes/plataformas recomendarías? Fundamenta tu selección: ¿en qué métricas te enfocaste? ¿Por qué? ¿Qué conclusiones sacaste después de encontrar los valores métricos?\n",
    "\n",
    "Una vez recopilados los datos, tenemos los siguientes insights:\n",
    "\n",
    "- La mayoria de las personas hacen su primer compra en su primer conexión al sitio, por lo que podemos inferir que la pagina es bastante intuitiva y sobre todo, asegurar que el 15.85% de los usuarios regresen cada semana.\n",
    "- La gente se conecta solo una vez por dia y la duración de la sesión es de 60 segundos en promedio.\n",
    "- Se tiene una media de 1 pedido por usuario y su tamaño de compra en promedio es de $\\$5$\n",
    "- Notamos que cada cliente en promedio aporta $\\$6.92$ a lo largo de su ciclo de vida.\n",
    "- El tipo de fuente de anuncios 3 es la que más dinero consume y con bastante diferencia respecto a las otras, además es en la que en promedio más costos fue adquirir un cliente (superando los $\\$14$). Sin embargo, al ver el ROMI nos entrega menos de 0.5 puntos, siendo la ultima fuente en este aspecto.\n",
    "- Por otro lado, se identifico que las fuentes 4, 9 y 10 son en las que menos dinero cuesta adquirir un cliente y especificamente, la fuente 4 es la que nos entrega el ROMI más alto superando los 3.5 puntos.\n",
    "\n",
    "Tomando en cuenta los insights antes mencionados; recomendamos aumentar exponencialmente el dinero invertido en la fuente 4 ya que nos entregan mejor rendimiento entre el costo de adquirir un cliente y lo que gasta en la plataforma. Tambien recomendamos bajar el presupuesto a minimos de la fuente número 3 ya que el ROMI que nos entrega es el más bajo de todas las fuentes y su costo por cliente es altisimo."
   ]
  }
 ],
 "metadata": {
  "kernelspec": {
   "display_name": "Python 3 (ipykernel)",
   "language": "python",
   "name": "python3"
  },
  "language_info": {
   "codemirror_mode": {
    "name": "ipython",
    "version": 3
   },
   "file_extension": ".py",
   "mimetype": "text/x-python",
   "name": "python",
   "nbconvert_exporter": "python",
   "pygments_lexer": "ipython3",
   "version": "3.9.5"
  },
  "toc": {
   "base_numbering": 1,
   "nav_menu": {},
   "number_sections": true,
   "sideBar": true,
   "skip_h1_title": true,
   "title_cell": "Table of Contents",
   "title_sidebar": "Contents",
   "toc_cell": false,
   "toc_position": {
    "height": "calc(100% - 180px)",
    "left": "10px",
    "top": "150px",
    "width": "311.4px"
   },
   "toc_section_display": true,
   "toc_window_display": false
  }
 },
 "nbformat": 4,
 "nbformat_minor": 2
}
